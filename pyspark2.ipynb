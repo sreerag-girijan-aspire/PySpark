{
 "cells": [
  {
   "cell_type": "code",
   "execution_count": 1,
   "metadata": {},
   "outputs": [
    {
     "name": "stderr",
     "output_type": "stream",
     "text": [
      "25/03/07 12:58:49 WARN Utils: Your hostname, ASDLAPKCH0627 resolves to a loopback address: 127.0.1.1; using 10.10.150.163 instead (on interface wlp0s20f3)\n",
      "25/03/07 12:58:49 WARN Utils: Set SPARK_LOCAL_IP if you need to bind to another address\n",
      "Setting default log level to \"WARN\".\n",
      "To adjust logging level use sc.setLogLevel(newLevel). For SparkR, use setLogLevel(newLevel).\n",
      "25/03/07 12:58:50 WARN NativeCodeLoader: Unable to load native-hadoop library for your platform... using builtin-java classes where applicable\n",
      "25/03/07 12:58:51 WARN Utils: Service 'SparkUI' could not bind on port 4040. Attempting port 4041.\n"
     ]
    }
   ],
   "source": [
    "from pyspark.sql import SparkSession\n",
    "spark=SparkSession.builder.appName(\"Practice\").getOrCreate()"
   ]
  },
  {
   "cell_type": "code",
   "execution_count": 2,
   "metadata": {},
   "outputs": [
    {
     "data": {
      "text/html": [
       "\n",
       "            <div>\n",
       "                <p><b>SparkSession - in-memory</b></p>\n",
       "                \n",
       "        <div>\n",
       "            <p><b>SparkContext</b></p>\n",
       "\n",
       "            <p><a href=\"http://10.10.150.163:4041\">Spark UI</a></p>\n",
       "\n",
       "            <dl>\n",
       "              <dt>Version</dt>\n",
       "                <dd><code>v3.5.5</code></dd>\n",
       "              <dt>Master</dt>\n",
       "                <dd><code>local[*]</code></dd>\n",
       "              <dt>AppName</dt>\n",
       "                <dd><code>Practice</code></dd>\n",
       "            </dl>\n",
       "        </div>\n",
       "        \n",
       "            </div>\n",
       "        "
      ],
      "text/plain": [
       "<pyspark.sql.session.SparkSession at 0x77ee0c2c3a40>"
      ]
     },
     "execution_count": 2,
     "metadata": {},
     "output_type": "execute_result"
    }
   ],
   "source": [
    "spark"
   ]
  },
  {
   "cell_type": "code",
   "execution_count": 3,
   "metadata": {},
   "outputs": [
    {
     "name": "stderr",
     "output_type": "stream",
     "text": [
      "                                                                                \r"
     ]
    }
   ],
   "source": [
    "df=spark.read.option(\"header\",\"True\").csv(\"ecommerce.csv\")"
   ]
  },
  {
   "cell_type": "code",
   "execution_count": 4,
   "metadata": {},
   "outputs": [
    {
     "name": "stdout",
     "output_type": "stream",
     "text": [
      "+--------------+-----------+----------+--------+-------+----------+---------------+-------------+---------------+--------+\n",
      "|transaction_id|customer_id|   product|quantity|  price|      date|       category|         city|shipping_method|discount|\n",
      "+--------------+-----------+----------+--------+-------+----------+---------------+-------------+---------------+--------+\n",
      "|         T0001|       C139|Smartphone|       2| 425.17|2025-03-05|       Clothing|  Los Angeles|       Standard|       5|\n",
      "|         T0002|       C020|Smartwatch|       1|  73.31|2025-03-07|Home Appliances|        Miami|        Express|       0|\n",
      "|         T0003|       C058|Smartwatch|       2| 898.36|2025-03-06|       Clothing|       Boston|        Express|      10|\n",
      "|         T0004|       C077|Smartphone|       2| 718.81|2025-03-06|Home Appliances|         NULL|        Express|      15|\n",
      "|         T0005|       C070|    Tablet|       1| 733.15|2025-03-02|    Electronics|      Seattle|       Standard|      20|\n",
      "|         T0006|       C078|   Monitor|       3| 760.61|2025-03-02|    Accessories|San Francisco|       Standard|      20|\n",
      "|         T0007|       C025|  Keyboard|       3| 289.53|2025-03-07|           NULL|      Seattle|        Express|       5|\n",
      "|         T0008|       C196|    Laptop|       3| 902.84|2025-03-05|Home Appliances|      Seattle|        Express|      15|\n",
      "|         T0009|       C097|Smartphone|       2| 257.27|2025-03-01|           NULL|       Boston|       Standard|      10|\n",
      "|         T0010|       C122|Headphones|       2| 297.01|2025-03-02|    Accessories|      Chicago|        Express|       0|\n",
      "|         T0011|       C126|   Monitor|       3|  679.6|2025-03-02|    Electronics|     New York|       Standard|      20|\n",
      "|         T0012|       C065|    Tablet|       3|1144.64|2025-03-07|    Electronics|      Seattle|        Express|      15|\n",
      "|         T0013|       C079|   Monitor|       2| 419.75|2025-03-07|       Clothing|  Los Angeles|        Express|      10|\n",
      "|         T0014|       C138|   Monitor|       2| 540.93|2025-03-04|    Electronics|  Los Angeles|       Standard|       5|\n",
      "|         T0015|       C174|Smartphone|       2|1120.44|2025-03-06|       Clothing|       Boston|        Express|      10|\n",
      "|         T0016|       C186|Smartwatch|       2|  91.25|2025-03-02|    Electronics|       Boston|        Express|      15|\n",
      "|         T0017|       C113|  Keyboard|       2| 217.97|2025-03-04|    Accessories|     New York|       Standard|       0|\n",
      "|         T0018|       C109|    Tablet|       1| 981.69|2025-03-05|       Clothing|      Chicago|       Standard|      10|\n",
      "|         T0019|       C064|Smartphone|       3| 919.55|2025-03-07|    Electronics|        Miami|       Standard|      15|\n",
      "|         T0020|       C013|   Monitor|       2| 442.55|2025-03-05|    Accessories|      Seattle|        Express|      10|\n",
      "+--------------+-----------+----------+--------+-------+----------+---------------+-------------+---------------+--------+\n",
      "only showing top 20 rows\n",
      "\n"
     ]
    }
   ],
   "source": [
    "df.show()"
   ]
  },
  {
   "cell_type": "code",
   "execution_count": 5,
   "metadata": {},
   "outputs": [
    {
     "name": "stdout",
     "output_type": "stream",
     "text": [
      "+--------------+-----------+----------+--------+-------+----------+---------------+-------------+---------------+--------+\n",
      "|transaction_id|customer_id|   product|quantity|  price|      date|       category|         city|shipping_method|discount|\n",
      "+--------------+-----------+----------+--------+-------+----------+---------------+-------------+---------------+--------+\n",
      "|         T0001|       C139|Smartphone|       2| 425.17|2025-03-05|       Clothing|  Los Angeles|       Standard|       5|\n",
      "|         T0002|       C020|Smartwatch|       1|  73.31|2025-03-07|Home Appliances|        Miami|        Express|       0|\n",
      "|         T0003|       C058|Smartwatch|       2| 898.36|2025-03-06|       Clothing|       Boston|        Express|      10|\n",
      "|         T0005|       C070|    Tablet|       1| 733.15|2025-03-02|    Electronics|      Seattle|       Standard|      20|\n",
      "|         T0006|       C078|   Monitor|       3| 760.61|2025-03-02|    Accessories|San Francisco|       Standard|      20|\n",
      "|         T0008|       C196|    Laptop|       3| 902.84|2025-03-05|Home Appliances|      Seattle|        Express|      15|\n",
      "|         T0010|       C122|Headphones|       2| 297.01|2025-03-02|    Accessories|      Chicago|        Express|       0|\n",
      "|         T0011|       C126|   Monitor|       3|  679.6|2025-03-02|    Electronics|     New York|       Standard|      20|\n",
      "|         T0012|       C065|    Tablet|       3|1144.64|2025-03-07|    Electronics|      Seattle|        Express|      15|\n",
      "|         T0013|       C079|   Monitor|       2| 419.75|2025-03-07|       Clothing|  Los Angeles|        Express|      10|\n",
      "|         T0014|       C138|   Monitor|       2| 540.93|2025-03-04|    Electronics|  Los Angeles|       Standard|       5|\n",
      "|         T0015|       C174|Smartphone|       2|1120.44|2025-03-06|       Clothing|       Boston|        Express|      10|\n",
      "|         T0016|       C186|Smartwatch|       2|  91.25|2025-03-02|    Electronics|       Boston|        Express|      15|\n",
      "|         T0017|       C113|  Keyboard|       2| 217.97|2025-03-04|    Accessories|     New York|       Standard|       0|\n",
      "|         T0018|       C109|    Tablet|       1| 981.69|2025-03-05|       Clothing|      Chicago|       Standard|      10|\n",
      "|         T0019|       C064|Smartphone|       3| 919.55|2025-03-07|    Electronics|        Miami|       Standard|      15|\n",
      "|         T0020|       C013|   Monitor|       2| 442.55|2025-03-05|    Accessories|      Seattle|        Express|      10|\n",
      "|         T0021|       C138|   Monitor|       3| 361.46|2025-03-03|Home Appliances|  Los Angeles|        Express|       5|\n",
      "|         T0022|       C014|Headphones|       3| 713.51|2025-03-07|    Electronics|        Miami|        Express|       0|\n",
      "|         T0023|       C029|Smartphone|       2| 113.54|2025-03-02|       Clothing|       Boston|       Standard|       5|\n",
      "+--------------+-----------+----------+--------+-------+----------+---------------+-------------+---------------+--------+\n",
      "only showing top 20 rows\n",
      "\n"
     ]
    }
   ],
   "source": [
    "df.na.drop().show()"
   ]
  },
  {
   "cell_type": "code",
   "execution_count": 10,
   "metadata": {},
   "outputs": [
    {
     "name": "stdout",
     "output_type": "stream",
     "text": [
      "+--------------+-----------+----------+--------+-------+----------+---------------+-------------+---------------+--------+\n",
      "|transaction_id|customer_id|   product|quantity|  price|      date|       category|         city|shipping_method|discount|\n",
      "+--------------+-----------+----------+--------+-------+----------+---------------+-------------+---------------+--------+\n",
      "|         T0001|       C139|Smartphone|       2| 425.17|2025-03-05|       Clothing|  Los Angeles|       Standard|       5|\n",
      "|         T0002|       C020|Smartwatch|       1|  73.31|2025-03-07|Home Appliances|        Miami|        Express|       0|\n",
      "|         T0003|       C058|Smartwatch|       2| 898.36|2025-03-06|       Clothing|       Boston|        Express|      10|\n",
      "|         T0004|       C077|Smartphone|       2| 718.81|2025-03-06|Home Appliances|         NULL|        Express|      15|\n",
      "|         T0005|       C070|    Tablet|       1| 733.15|2025-03-02|    Electronics|      Seattle|       Standard|      20|\n",
      "|         T0006|       C078|   Monitor|       3| 760.61|2025-03-02|    Accessories|San Francisco|       Standard|      20|\n",
      "|         T0007|       C025|  Keyboard|       3| 289.53|2025-03-07|           NULL|      Seattle|        Express|       5|\n",
      "|         T0008|       C196|    Laptop|       3| 902.84|2025-03-05|Home Appliances|      Seattle|        Express|      15|\n",
      "|         T0009|       C097|Smartphone|       2| 257.27|2025-03-01|           NULL|       Boston|       Standard|      10|\n",
      "|         T0010|       C122|Headphones|       2| 297.01|2025-03-02|    Accessories|      Chicago|        Express|       0|\n",
      "|         T0011|       C126|   Monitor|       3|  679.6|2025-03-02|    Electronics|     New York|       Standard|      20|\n",
      "|         T0012|       C065|    Tablet|       3|1144.64|2025-03-07|    Electronics|      Seattle|        Express|      15|\n",
      "|         T0013|       C079|   Monitor|       2| 419.75|2025-03-07|       Clothing|  Los Angeles|        Express|      10|\n",
      "|         T0014|       C138|   Monitor|       2| 540.93|2025-03-04|    Electronics|  Los Angeles|       Standard|       5|\n",
      "|         T0015|       C174|Smartphone|       2|1120.44|2025-03-06|       Clothing|       Boston|        Express|      10|\n",
      "|         T0016|       C186|Smartwatch|       2|  91.25|2025-03-02|    Electronics|       Boston|        Express|      15|\n",
      "|         T0017|       C113|  Keyboard|       2| 217.97|2025-03-04|    Accessories|     New York|       Standard|       0|\n",
      "|         T0018|       C109|    Tablet|       1| 981.69|2025-03-05|       Clothing|      Chicago|       Standard|      10|\n",
      "|         T0019|       C064|Smartphone|       3| 919.55|2025-03-07|    Electronics|        Miami|       Standard|      15|\n",
      "|         T0020|       C013|   Monitor|       2| 442.55|2025-03-05|    Accessories|      Seattle|        Express|      10|\n",
      "+--------------+-----------+----------+--------+-------+----------+---------------+-------------+---------------+--------+\n",
      "only showing top 20 rows\n",
      "\n"
     ]
    }
   ],
   "source": [
    "df.na.drop(how=\"any\",thresh=2).show()"
   ]
  },
  {
   "cell_type": "code",
   "execution_count": 11,
   "metadata": {},
   "outputs": [
    {
     "name": "stdout",
     "output_type": "stream",
     "text": [
      "+--------------+-----------+----------+--------+-------+----------+---------------+-------------+---------------+--------+\n",
      "|transaction_id|customer_id|   product|quantity|  price|      date|       category|         city|shipping_method|discount|\n",
      "+--------------+-----------+----------+--------+-------+----------+---------------+-------------+---------------+--------+\n",
      "|         T0001|       C139|Smartphone|       2| 425.17|2025-03-05|       Clothing|  Los Angeles|       Standard|       5|\n",
      "|         T0002|       C020|Smartwatch|       1|  73.31|2025-03-07|Home Appliances|        Miami|        Express|       0|\n",
      "|         T0003|       C058|Smartwatch|       2| 898.36|2025-03-06|       Clothing|       Boston|        Express|      10|\n",
      "|         T0004|       C077|Smartphone|       2| 718.81|2025-03-06|Home Appliances|         NULL|        Express|      15|\n",
      "|         T0005|       C070|    Tablet|       1| 733.15|2025-03-02|    Electronics|      Seattle|       Standard|      20|\n",
      "|         T0006|       C078|   Monitor|       3| 760.61|2025-03-02|    Accessories|San Francisco|       Standard|      20|\n",
      "|         T0008|       C196|    Laptop|       3| 902.84|2025-03-05|Home Appliances|      Seattle|        Express|      15|\n",
      "|         T0010|       C122|Headphones|       2| 297.01|2025-03-02|    Accessories|      Chicago|        Express|       0|\n",
      "|         T0011|       C126|   Monitor|       3|  679.6|2025-03-02|    Electronics|     New York|       Standard|      20|\n",
      "|         T0012|       C065|    Tablet|       3|1144.64|2025-03-07|    Electronics|      Seattle|        Express|      15|\n",
      "|         T0013|       C079|   Monitor|       2| 419.75|2025-03-07|       Clothing|  Los Angeles|        Express|      10|\n",
      "|         T0014|       C138|   Monitor|       2| 540.93|2025-03-04|    Electronics|  Los Angeles|       Standard|       5|\n",
      "|         T0015|       C174|Smartphone|       2|1120.44|2025-03-06|       Clothing|       Boston|        Express|      10|\n",
      "|         T0016|       C186|Smartwatch|       2|  91.25|2025-03-02|    Electronics|       Boston|        Express|      15|\n",
      "|         T0017|       C113|  Keyboard|       2| 217.97|2025-03-04|    Accessories|     New York|       Standard|       0|\n",
      "|         T0018|       C109|    Tablet|       1| 981.69|2025-03-05|       Clothing|      Chicago|       Standard|      10|\n",
      "|         T0019|       C064|Smartphone|       3| 919.55|2025-03-07|    Electronics|        Miami|       Standard|      15|\n",
      "|         T0020|       C013|   Monitor|       2| 442.55|2025-03-05|    Accessories|      Seattle|        Express|      10|\n",
      "|         T0021|       C138|   Monitor|       3| 361.46|2025-03-03|Home Appliances|  Los Angeles|        Express|       5|\n",
      "|         T0022|       C014|Headphones|       3| 713.51|2025-03-07|    Electronics|        Miami|        Express|       0|\n",
      "+--------------+-----------+----------+--------+-------+----------+---------------+-------------+---------------+--------+\n",
      "only showing top 20 rows\n",
      "\n"
     ]
    }
   ],
   "source": [
    "df.na.drop(how=\"any\",subset=[\"category\"]).show()"
   ]
  },
  {
   "cell_type": "code",
   "execution_count": 13,
   "metadata": {},
   "outputs": [
    {
     "name": "stdout",
     "output_type": "stream",
     "text": [
      "+--------------+-----------+----------+--------+-------+----------+---------------+-------------+---------------+--------+\n",
      "|transaction_id|customer_id|   product|quantity|  price|      date|       category|         city|shipping_method|discount|\n",
      "+--------------+-----------+----------+--------+-------+----------+---------------+-------------+---------------+--------+\n",
      "|         T0001|       C139|Smartphone|       2| 425.17|2025-03-05|       Clothing|  Los Angeles|       Standard|       5|\n",
      "|         T0002|       C020|Smartwatch|       1|  73.31|2025-03-07|Home Appliances|        Miami|        Express|       0|\n",
      "|         T0003|       C058|Smartwatch|       2| 898.36|2025-03-06|       Clothing|       Boston|        Express|      10|\n",
      "|         T0004|       C077|Smartphone|       2| 718.81|2025-03-06|Home Appliances|Missing_value|        Express|      15|\n",
      "|         T0005|       C070|    Tablet|       1| 733.15|2025-03-02|    Electronics|      Seattle|       Standard|      20|\n",
      "|         T0006|       C078|   Monitor|       3| 760.61|2025-03-02|    Accessories|San Francisco|       Standard|      20|\n",
      "|         T0007|       C025|  Keyboard|       3| 289.53|2025-03-07|  Missing_value|      Seattle|        Express|       5|\n",
      "|         T0008|       C196|    Laptop|       3| 902.84|2025-03-05|Home Appliances|      Seattle|        Express|      15|\n",
      "|         T0009|       C097|Smartphone|       2| 257.27|2025-03-01|  Missing_value|       Boston|       Standard|      10|\n",
      "|         T0010|       C122|Headphones|       2| 297.01|2025-03-02|    Accessories|      Chicago|        Express|       0|\n",
      "|         T0011|       C126|   Monitor|       3|  679.6|2025-03-02|    Electronics|     New York|       Standard|      20|\n",
      "|         T0012|       C065|    Tablet|       3|1144.64|2025-03-07|    Electronics|      Seattle|        Express|      15|\n",
      "|         T0013|       C079|   Monitor|       2| 419.75|2025-03-07|       Clothing|  Los Angeles|        Express|      10|\n",
      "|         T0014|       C138|   Monitor|       2| 540.93|2025-03-04|    Electronics|  Los Angeles|       Standard|       5|\n",
      "|         T0015|       C174|Smartphone|       2|1120.44|2025-03-06|       Clothing|       Boston|        Express|      10|\n",
      "|         T0016|       C186|Smartwatch|       2|  91.25|2025-03-02|    Electronics|       Boston|        Express|      15|\n",
      "|         T0017|       C113|  Keyboard|       2| 217.97|2025-03-04|    Accessories|     New York|       Standard|       0|\n",
      "|         T0018|       C109|    Tablet|       1| 981.69|2025-03-05|       Clothing|      Chicago|       Standard|      10|\n",
      "|         T0019|       C064|Smartphone|       3| 919.55|2025-03-07|    Electronics|        Miami|       Standard|      15|\n",
      "|         T0020|       C013|   Monitor|       2| 442.55|2025-03-05|    Accessories|      Seattle|        Express|      10|\n",
      "+--------------+-----------+----------+--------+-------+----------+---------------+-------------+---------------+--------+\n",
      "only showing top 20 rows\n",
      "\n"
     ]
    }
   ],
   "source": [
    "df.na.fill(\"Missing_value\").show()"
   ]
  },
  {
   "cell_type": "code",
   "execution_count": 14,
   "metadata": {},
   "outputs": [
    {
     "name": "stdout",
     "output_type": "stream",
     "text": [
      "+--------------+-----------+----------+--------+-------+----------+---------------+-------------+---------------+--------+\n",
      "|transaction_id|customer_id|   product|quantity|  price|      date|       category|         city|shipping_method|discount|\n",
      "+--------------+-----------+----------+--------+-------+----------+---------------+-------------+---------------+--------+\n",
      "|         T0001|       C139|Smartphone|       2| 425.17|2025-03-05|       Clothing|  Los Angeles|       Standard|       5|\n",
      "|         T0002|       C020|Smartwatch|       1|  73.31|2025-03-07|Home Appliances|        Miami|        Express|       0|\n",
      "|         T0003|       C058|Smartwatch|       2| 898.36|2025-03-06|       Clothing|       Boston|        Express|      10|\n",
      "|         T0004|       C077|Smartphone|       2| 718.81|2025-03-06|Home Appliances|         NULL|        Express|      15|\n",
      "|         T0005|       C070|    Tablet|       1| 733.15|2025-03-02|    Electronics|      Seattle|       Standard|      20|\n",
      "|         T0006|       C078|   Monitor|       3| 760.61|2025-03-02|    Accessories|San Francisco|       Standard|      20|\n",
      "|         T0007|       C025|  Keyboard|       3| 289.53|2025-03-07|  Missing_value|      Seattle|        Express|       5|\n",
      "|         T0008|       C196|    Laptop|       3| 902.84|2025-03-05|Home Appliances|      Seattle|        Express|      15|\n",
      "|         T0009|       C097|Smartphone|       2| 257.27|2025-03-01|  Missing_value|       Boston|       Standard|      10|\n",
      "|         T0010|       C122|Headphones|       2| 297.01|2025-03-02|    Accessories|      Chicago|        Express|       0|\n",
      "|         T0011|       C126|   Monitor|       3|  679.6|2025-03-02|    Electronics|     New York|       Standard|      20|\n",
      "|         T0012|       C065|    Tablet|       3|1144.64|2025-03-07|    Electronics|      Seattle|        Express|      15|\n",
      "|         T0013|       C079|   Monitor|       2| 419.75|2025-03-07|       Clothing|  Los Angeles|        Express|      10|\n",
      "|         T0014|       C138|   Monitor|       2| 540.93|2025-03-04|    Electronics|  Los Angeles|       Standard|       5|\n",
      "|         T0015|       C174|Smartphone|       2|1120.44|2025-03-06|       Clothing|       Boston|        Express|      10|\n",
      "|         T0016|       C186|Smartwatch|       2|  91.25|2025-03-02|    Electronics|       Boston|        Express|      15|\n",
      "|         T0017|       C113|  Keyboard|       2| 217.97|2025-03-04|    Accessories|     New York|       Standard|       0|\n",
      "|         T0018|       C109|    Tablet|       1| 981.69|2025-03-05|       Clothing|      Chicago|       Standard|      10|\n",
      "|         T0019|       C064|Smartphone|       3| 919.55|2025-03-07|    Electronics|        Miami|       Standard|      15|\n",
      "|         T0020|       C013|   Monitor|       2| 442.55|2025-03-05|    Accessories|      Seattle|        Express|      10|\n",
      "+--------------+-----------+----------+--------+-------+----------+---------------+-------------+---------------+--------+\n",
      "only showing top 20 rows\n",
      "\n"
     ]
    }
   ],
   "source": [
    "df.na.fill(\"Missing_value\",[\"category\"]).show()"
   ]
  },
  {
   "cell_type": "code",
   "execution_count": 24,
   "metadata": {},
   "outputs": [
    {
     "name": "stdout",
     "output_type": "stream",
     "text": [
      "+--------------+-----------+----------+--------+-------+----------+---------------+-------------+---------------+--------+\n",
      "|transaction_id|customer_id|   product|quantity|  price|      date|       category|         city|shipping_method|discount|\n",
      "+--------------+-----------+----------+--------+-------+----------+---------------+-------------+---------------+--------+\n",
      "|         T0003|       C058|Smartwatch|       2| 898.36|2025-03-06|       Clothing|       Boston|        Express|      10|\n",
      "|         T0004|       C077|Smartphone|       2| 718.81|2025-03-06|Home Appliances|         NULL|        Express|      15|\n",
      "|         T0005|       C070|    Tablet|       1| 733.15|2025-03-02|    Electronics|      Seattle|       Standard|      20|\n",
      "|         T0006|       C078|   Monitor|       3| 760.61|2025-03-02|    Accessories|San Francisco|       Standard|      20|\n",
      "|         T0008|       C196|    Laptop|       3| 902.84|2025-03-05|Home Appliances|      Seattle|        Express|      15|\n",
      "|         T0011|       C126|   Monitor|       3|  679.6|2025-03-02|    Electronics|     New York|       Standard|      20|\n",
      "|         T0012|       C065|    Tablet|       3|1144.64|2025-03-07|    Electronics|      Seattle|        Express|      15|\n",
      "|         T0015|       C174|Smartphone|       2|1120.44|2025-03-06|       Clothing|       Boston|        Express|      10|\n",
      "|         T0018|       C109|    Tablet|       1| 981.69|2025-03-05|       Clothing|      Chicago|       Standard|      10|\n",
      "|         T0019|       C064|Smartphone|       3| 919.55|2025-03-07|    Electronics|        Miami|       Standard|      15|\n",
      "|         T0022|       C014|Headphones|       3| 713.51|2025-03-07|    Electronics|        Miami|        Express|       0|\n",
      "|         T0027|       C178|   Monitor|       2| 935.82|2025-03-01|           NULL|         NULL|        Express|      10|\n",
      "|         T0029|       C002|    Laptop|       2| 648.32|2025-03-05|       Clothing|       Boston|       Standard|       5|\n",
      "|         T0033|       C013|   Monitor|       2| 839.02|2025-03-05|Home Appliances|      Chicago|       Standard|      15|\n",
      "|         T0037|       C078|   Monitor|       2|1003.82|2025-03-07|    Accessories|       Boston|       Standard|       5|\n",
      "|         T0041|       C063|   Monitor|       3| 610.12|2025-03-07|           NULL|      Seattle|        Express|      20|\n",
      "|         T0043|       C079|   Monitor|       3| 911.51|2025-03-05|           NULL|San Francisco|       Standard|      20|\n",
      "|         T0044|       C074|Smartphone|       2|1085.57|2025-03-01|           NULL|  Los Angeles|       Standard|       0|\n",
      "|         T0046|       C086|   Monitor|       2|1140.12|2025-03-05|           NULL|San Francisco|        Express|       5|\n",
      "|         T0048|       C018|Smartwatch|       3|1018.72|2025-03-02|    Accessories|  Los Angeles|       Standard|       0|\n",
      "+--------------+-----------+----------+--------+-------+----------+---------------+-------------+---------------+--------+\n",
      "only showing top 20 rows\n",
      "\n"
     ]
    }
   ],
   "source": [
    "df.filter((df.price<60) | (df.price>600)).show()"
   ]
  },
  {
   "cell_type": "code",
   "execution_count": 25,
   "metadata": {},
   "outputs": [
    {
     "name": "stdout",
     "output_type": "stream",
     "text": [
      "+--------------+-----------+----------+--------+-------+----------+---------------+-------------+---------------+--------+\n",
      "|transaction_id|customer_id|   product|quantity|  price|      date|       category|         city|shipping_method|discount|\n",
      "+--------------+-----------+----------+--------+-------+----------+---------------+-------------+---------------+--------+\n",
      "|         T0003|       C058|Smartwatch|       2| 898.36|2025-03-06|       Clothing|       Boston|        Express|      10|\n",
      "|         T0004|       C077|Smartphone|       2| 718.81|2025-03-06|Home Appliances|         NULL|        Express|      15|\n",
      "|         T0005|       C070|    Tablet|       1| 733.15|2025-03-02|    Electronics|      Seattle|       Standard|      20|\n",
      "|         T0006|       C078|   Monitor|       3| 760.61|2025-03-02|    Accessories|San Francisco|       Standard|      20|\n",
      "|         T0008|       C196|    Laptop|       3| 902.84|2025-03-05|Home Appliances|      Seattle|        Express|      15|\n",
      "|         T0011|       C126|   Monitor|       3|  679.6|2025-03-02|    Electronics|     New York|       Standard|      20|\n",
      "|         T0012|       C065|    Tablet|       3|1144.64|2025-03-07|    Electronics|      Seattle|        Express|      15|\n",
      "|         T0015|       C174|Smartphone|       2|1120.44|2025-03-06|       Clothing|       Boston|        Express|      10|\n",
      "|         T0018|       C109|    Tablet|       1| 981.69|2025-03-05|       Clothing|      Chicago|       Standard|      10|\n",
      "|         T0019|       C064|Smartphone|       3| 919.55|2025-03-07|    Electronics|        Miami|       Standard|      15|\n",
      "|         T0022|       C014|Headphones|       3| 713.51|2025-03-07|    Electronics|        Miami|        Express|       0|\n",
      "|         T0027|       C178|   Monitor|       2| 935.82|2025-03-01|           NULL|         NULL|        Express|      10|\n",
      "|         T0029|       C002|    Laptop|       2| 648.32|2025-03-05|       Clothing|       Boston|       Standard|       5|\n",
      "|         T0033|       C013|   Monitor|       2| 839.02|2025-03-05|Home Appliances|      Chicago|       Standard|      15|\n",
      "|         T0037|       C078|   Monitor|       2|1003.82|2025-03-07|    Accessories|       Boston|       Standard|       5|\n",
      "|         T0041|       C063|   Monitor|       3| 610.12|2025-03-07|           NULL|      Seattle|        Express|      20|\n",
      "|         T0043|       C079|   Monitor|       3| 911.51|2025-03-05|           NULL|San Francisco|       Standard|      20|\n",
      "|         T0044|       C074|Smartphone|       2|1085.57|2025-03-01|           NULL|  Los Angeles|       Standard|       0|\n",
      "|         T0046|       C086|   Monitor|       2|1140.12|2025-03-05|           NULL|San Francisco|        Express|       5|\n",
      "|         T0048|       C018|Smartwatch|       3|1018.72|2025-03-02|    Accessories|  Los Angeles|       Standard|       0|\n",
      "+--------------+-----------+----------+--------+-------+----------+---------------+-------------+---------------+--------+\n",
      "only showing top 20 rows\n",
      "\n"
     ]
    }
   ],
   "source": [
    "df.filter(~(df.price<600)).show()"
   ]
  },
  {
   "cell_type": "code",
   "execution_count": null,
   "metadata": {},
   "outputs": [],
   "source": []
  },
  {
   "cell_type": "code",
   "execution_count": null,
   "metadata": {},
   "outputs": [],
   "source": []
  },
  {
   "cell_type": "code",
   "execution_count": null,
   "metadata": {},
   "outputs": [],
   "source": []
  },
  {
   "cell_type": "code",
   "execution_count": null,
   "metadata": {},
   "outputs": [],
   "source": []
  },
  {
   "cell_type": "code",
   "execution_count": null,
   "metadata": {},
   "outputs": [],
   "source": []
  },
  {
   "cell_type": "code",
   "execution_count": null,
   "metadata": {},
   "outputs": [],
   "source": []
  },
  {
   "cell_type": "code",
   "execution_count": null,
   "metadata": {},
   "outputs": [],
   "source": []
  },
  {
   "cell_type": "code",
   "execution_count": null,
   "metadata": {},
   "outputs": [],
   "source": []
  },
  {
   "cell_type": "code",
   "execution_count": null,
   "metadata": {},
   "outputs": [],
   "source": []
  },
  {
   "cell_type": "code",
   "execution_count": null,
   "metadata": {},
   "outputs": [],
   "source": []
  },
  {
   "cell_type": "code",
   "execution_count": null,
   "metadata": {},
   "outputs": [],
   "source": []
  },
  {
   "cell_type": "code",
   "execution_count": null,
   "metadata": {},
   "outputs": [],
   "source": []
  },
  {
   "cell_type": "code",
   "execution_count": null,
   "metadata": {},
   "outputs": [],
   "source": []
  },
  {
   "cell_type": "code",
   "execution_count": null,
   "metadata": {},
   "outputs": [],
   "source": []
  },
  {
   "cell_type": "code",
   "execution_count": null,
   "metadata": {},
   "outputs": [],
   "source": []
  },
  {
   "cell_type": "code",
   "execution_count": null,
   "metadata": {},
   "outputs": [],
   "source": []
  },
  {
   "cell_type": "code",
   "execution_count": null,
   "metadata": {},
   "outputs": [],
   "source": []
  },
  {
   "cell_type": "code",
   "execution_count": null,
   "metadata": {},
   "outputs": [],
   "source": []
  },
  {
   "cell_type": "code",
   "execution_count": null,
   "metadata": {},
   "outputs": [],
   "source": []
  },
  {
   "cell_type": "code",
   "execution_count": null,
   "metadata": {},
   "outputs": [],
   "source": []
  },
  {
   "cell_type": "code",
   "execution_count": null,
   "metadata": {},
   "outputs": [],
   "source": []
  },
  {
   "cell_type": "code",
   "execution_count": null,
   "metadata": {},
   "outputs": [],
   "source": []
  },
  {
   "cell_type": "code",
   "execution_count": null,
   "metadata": {},
   "outputs": [],
   "source": []
  },
  {
   "cell_type": "code",
   "execution_count": null,
   "metadata": {},
   "outputs": [],
   "source": []
  },
  {
   "cell_type": "code",
   "execution_count": null,
   "metadata": {},
   "outputs": [],
   "source": []
  },
  {
   "cell_type": "code",
   "execution_count": null,
   "metadata": {},
   "outputs": [],
   "source": []
  },
  {
   "cell_type": "code",
   "execution_count": null,
   "metadata": {},
   "outputs": [],
   "source": []
  },
  {
   "cell_type": "code",
   "execution_count": null,
   "metadata": {},
   "outputs": [],
   "source": []
  },
  {
   "cell_type": "code",
   "execution_count": null,
   "metadata": {},
   "outputs": [],
   "source": []
  },
  {
   "cell_type": "code",
   "execution_count": null,
   "metadata": {},
   "outputs": [],
   "source": []
  },
  {
   "cell_type": "code",
   "execution_count": null,
   "metadata": {},
   "outputs": [],
   "source": []
  },
  {
   "cell_type": "code",
   "execution_count": null,
   "metadata": {},
   "outputs": [],
   "source": []
  },
  {
   "cell_type": "code",
   "execution_count": null,
   "metadata": {},
   "outputs": [],
   "source": []
  },
  {
   "cell_type": "code",
   "execution_count": null,
   "metadata": {},
   "outputs": [],
   "source": []
  },
  {
   "cell_type": "code",
   "execution_count": null,
   "metadata": {},
   "outputs": [],
   "source": []
  },
  {
   "cell_type": "code",
   "execution_count": null,
   "metadata": {},
   "outputs": [],
   "source": []
  },
  {
   "cell_type": "code",
   "execution_count": null,
   "metadata": {},
   "outputs": [],
   "source": []
  }
 ],
 "metadata": {
  "kernelspec": {
   "display_name": "venv_Py",
   "language": "python",
   "name": "python3"
  },
  "language_info": {
   "codemirror_mode": {
    "name": "ipython",
    "version": 3
   },
   "file_extension": ".py",
   "mimetype": "text/x-python",
   "name": "python",
   "nbconvert_exporter": "python",
   "pygments_lexer": "ipython3",
   "version": "3.12.9"
  }
 },
 "nbformat": 4,
 "nbformat_minor": 2
}
