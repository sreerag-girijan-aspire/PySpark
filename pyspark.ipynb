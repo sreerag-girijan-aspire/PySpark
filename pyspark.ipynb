{
 "cells": [
  {
   "cell_type": "code",
   "execution_count": 3,
   "metadata": {},
   "outputs": [],
   "source": [
    "from pyspark.sql import SparkSession"
   ]
  },
  {
   "cell_type": "code",
   "execution_count": 4,
   "metadata": {},
   "outputs": [
    {
     "name": "stderr",
     "output_type": "stream",
     "text": [
      "25/03/07 12:53:05 WARN Utils: Your hostname, ASDLAPKCH0627 resolves to a loopback address: 127.0.1.1; using 10.10.150.163 instead (on interface wlp0s20f3)\n",
      "25/03/07 12:53:05 WARN Utils: Set SPARK_LOCAL_IP if you need to bind to another address\n",
      "Setting default log level to \"WARN\".\n",
      "To adjust logging level use sc.setLogLevel(newLevel). For SparkR, use setLogLevel(newLevel).\n",
      "25/03/07 12:53:06 WARN NativeCodeLoader: Unable to load native-hadoop library for your platform... using builtin-java classes where applicable\n"
     ]
    }
   ],
   "source": [
    "spark=SparkSession.builder.appName(\"Practice\").getOrCreate()"
   ]
  },
  {
   "cell_type": "code",
   "execution_count": 5,
   "metadata": {},
   "outputs": [
    {
     "data": {
      "text/html": [
       "\n",
       "            <div>\n",
       "                <p><b>SparkSession - in-memory</b></p>\n",
       "                \n",
       "        <div>\n",
       "            <p><b>SparkContext</b></p>\n",
       "\n",
       "            <p><a href=\"http://10.10.150.163:4040\">Spark UI</a></p>\n",
       "\n",
       "            <dl>\n",
       "              <dt>Version</dt>\n",
       "                <dd><code>v3.5.5</code></dd>\n",
       "              <dt>Master</dt>\n",
       "                <dd><code>local[*]</code></dd>\n",
       "              <dt>AppName</dt>\n",
       "                <dd><code>Practice</code></dd>\n",
       "            </dl>\n",
       "        </div>\n",
       "        \n",
       "            </div>\n",
       "        "
      ],
      "text/plain": [
       "<pyspark.sql.session.SparkSession at 0x7a015ca3cef0>"
      ]
     },
     "execution_count": 5,
     "metadata": {},
     "output_type": "execute_result"
    }
   ],
   "source": [
    "spark"
   ]
  },
  {
   "cell_type": "code",
   "execution_count": 6,
   "metadata": {},
   "outputs": [],
   "source": [
    "df=spark.read.csv(\"./pixar_films.csv\")"
   ]
  },
  {
   "cell_type": "code",
   "execution_count": 7,
   "metadata": {},
   "outputs": [
    {
     "name": "stdout",
     "output_type": "stream",
     "text": [
      "+------+-------------------+------------+--------+-----------+--------------------+\n",
      "|   _c0|                _c1|         _c2|     _c3|        _c4|                 _c5|\n",
      "+------+-------------------+------------+--------+-----------+--------------------+\n",
      "|number|               film|release_date|run_time|film_rating|                plot|\n",
      "|     1|          Toy Story|  1995-11-22|      81|          G|A cowboy doll is ...|\n",
      "|     2|       A Bug's Life|  1998-11-25|      95|          G|\"A misfit ant, lo...|\n",
      "|     3|        Toy Story 2|  1999-11-24|      92|          G|When Woody is sto...|\n",
      "|     4|     Monsters, Inc.|  2001-11-02|      92|          G|In order to power...|\n",
      "|     5|       Finding Nemo|  2003-05-30|     100|          G|After his son is ...|\n",
      "|     6|    The Incredibles|  2004-11-05|     115|         PG|While trying to l...|\n",
      "|     7|               Cars|  2006-06-09|     116|          G|On the way to the...|\n",
      "|     8|        Ratatouille|  2007-06-29|     111|          G|A rat who can coo...|\n",
      "|     9|             WALL-E|  2008-06-27|      98|          G|A robot who is re...|\n",
      "|    10|                 Up|  2009-05-29|      96|         PG|78-year-old Carl ...|\n",
      "|    11|        Toy Story 3|  2010-06-18|     103|          G|The toys are mist...|\n",
      "|    12|             Cars 2|  2011-06-24|     106|          G|Star race car Lig...|\n",
      "|    13|              Brave|  2012-06-22|      93|         PG|Determined to mak...|\n",
      "|    14|Monsters University|  2013-06-21|     104|          G|\"A look at the re...|\n",
      "|    15|         Inside Out|  2015-06-19|      95|         PG|After young Riley...|\n",
      "|    16|  The Good Dinosaur|  2015-11-25|      93|         PG|In a world where ...|\n",
      "|    17|       Finding Dory|  2016-06-17|      97|         PG|Friendly but forg...|\n",
      "|    18|             Cars 3|  2017-06-16|     102|          G|Lightning McQueen...|\n",
      "|    19|               Coco|  2017-11-22|     105|         PG|Aspiring musician...|\n",
      "+------+-------------------+------------+--------+-----------+--------------------+\n",
      "only showing top 20 rows\n",
      "\n",
      "None\n"
     ]
    }
   ],
   "source": [
    "print(df.show())"
   ]
  },
  {
   "cell_type": "code",
   "execution_count": 8,
   "metadata": {},
   "outputs": [],
   "source": [
    "df=spark.read.option(\"header\",\"true\").csv(\"./pixar_films.csv\")"
   ]
  },
  {
   "cell_type": "code",
   "execution_count": 9,
   "metadata": {},
   "outputs": [
    {
     "name": "stdout",
     "output_type": "stream",
     "text": [
      "+------+-------------------+------------+--------+-----------+--------------------+\n",
      "|number|               film|release_date|run_time|film_rating|                plot|\n",
      "+------+-------------------+------------+--------+-----------+--------------------+\n",
      "|     1|          Toy Story|  1995-11-22|      81|          G|A cowboy doll is ...|\n",
      "|     2|       A Bug's Life|  1998-11-25|      95|          G|\"A misfit ant, lo...|\n",
      "|     3|        Toy Story 2|  1999-11-24|      92|          G|When Woody is sto...|\n",
      "|     4|     Monsters, Inc.|  2001-11-02|      92|          G|In order to power...|\n",
      "|     5|       Finding Nemo|  2003-05-30|     100|          G|After his son is ...|\n",
      "|     6|    The Incredibles|  2004-11-05|     115|         PG|While trying to l...|\n",
      "|     7|               Cars|  2006-06-09|     116|          G|On the way to the...|\n",
      "|     8|        Ratatouille|  2007-06-29|     111|          G|A rat who can coo...|\n",
      "|     9|             WALL-E|  2008-06-27|      98|          G|A robot who is re...|\n",
      "|    10|                 Up|  2009-05-29|      96|         PG|78-year-old Carl ...|\n",
      "|    11|        Toy Story 3|  2010-06-18|     103|          G|The toys are mist...|\n",
      "|    12|             Cars 2|  2011-06-24|     106|          G|Star race car Lig...|\n",
      "|    13|              Brave|  2012-06-22|      93|         PG|Determined to mak...|\n",
      "|    14|Monsters University|  2013-06-21|     104|          G|\"A look at the re...|\n",
      "|    15|         Inside Out|  2015-06-19|      95|         PG|After young Riley...|\n",
      "|    16|  The Good Dinosaur|  2015-11-25|      93|         PG|In a world where ...|\n",
      "|    17|       Finding Dory|  2016-06-17|      97|         PG|Friendly but forg...|\n",
      "|    18|             Cars 3|  2017-06-16|     102|          G|Lightning McQueen...|\n",
      "|    19|               Coco|  2017-11-22|     105|         PG|Aspiring musician...|\n",
      "|    20|      Incredibles 2|  2018-06-15|     118|         PG|The Incredibles f...|\n",
      "+------+-------------------+------------+--------+-----------+--------------------+\n",
      "only showing top 20 rows\n",
      "\n"
     ]
    }
   ],
   "source": [
    "df.show()"
   ]
  },
  {
   "cell_type": "code",
   "execution_count": 10,
   "metadata": {},
   "outputs": [
    {
     "data": {
      "text/plain": [
       "pyspark.sql.dataframe.DataFrame"
      ]
     },
     "execution_count": 10,
     "metadata": {},
     "output_type": "execute_result"
    }
   ],
   "source": [
    "type(df)"
   ]
  },
  {
   "cell_type": "code",
   "execution_count": 11,
   "metadata": {},
   "outputs": [
    {
     "name": "stdout",
     "output_type": "stream",
     "text": [
      "root\n",
      " |-- number: string (nullable = true)\n",
      " |-- film: string (nullable = true)\n",
      " |-- release_date: string (nullable = true)\n",
      " |-- run_time: string (nullable = true)\n",
      " |-- film_rating: string (nullable = true)\n",
      " |-- plot: string (nullable = true)\n",
      "\n"
     ]
    }
   ],
   "source": [
    "df.printSchema()"
   ]
  },
  {
   "cell_type": "code",
   "execution_count": 12,
   "metadata": {},
   "outputs": [],
   "source": [
    "df=spark.read.option(\"header\",\"true\").csv(\"./pixar_films.csv\",inferSchema=True)"
   ]
  },
  {
   "cell_type": "code",
   "execution_count": 13,
   "metadata": {},
   "outputs": [
    {
     "name": "stdout",
     "output_type": "stream",
     "text": [
      "root\n",
      " |-- number: integer (nullable = true)\n",
      " |-- film: string (nullable = true)\n",
      " |-- release_date: date (nullable = true)\n",
      " |-- run_time: integer (nullable = true)\n",
      " |-- film_rating: string (nullable = true)\n",
      " |-- plot: string (nullable = true)\n",
      "\n"
     ]
    }
   ],
   "source": [
    "df.printSchema()"
   ]
  },
  {
   "cell_type": "code",
   "execution_count": 14,
   "metadata": {},
   "outputs": [
    {
     "name": "stdout",
     "output_type": "stream",
     "text": [
      "+------+-------------------+------------+--------+-----------+--------------------+\n",
      "|number|               film|release_date|run_time|film_rating|                plot|\n",
      "+------+-------------------+------------+--------+-----------+--------------------+\n",
      "|     1|          Toy Story|  1995-11-22|      81|          G|A cowboy doll is ...|\n",
      "|     2|       A Bug's Life|  1998-11-25|      95|          G|\"A misfit ant, lo...|\n",
      "|     3|        Toy Story 2|  1999-11-24|      92|          G|When Woody is sto...|\n",
      "|     4|     Monsters, Inc.|  2001-11-02|      92|          G|In order to power...|\n",
      "|     5|       Finding Nemo|  2003-05-30|     100|          G|After his son is ...|\n",
      "|     6|    The Incredibles|  2004-11-05|     115|         PG|While trying to l...|\n",
      "|     7|               Cars|  2006-06-09|     116|          G|On the way to the...|\n",
      "|     8|        Ratatouille|  2007-06-29|     111|          G|A rat who can coo...|\n",
      "|     9|             WALL-E|  2008-06-27|      98|          G|A robot who is re...|\n",
      "|    10|                 Up|  2009-05-29|      96|         PG|78-year-old Carl ...|\n",
      "|    11|        Toy Story 3|  2010-06-18|     103|          G|The toys are mist...|\n",
      "|    12|             Cars 2|  2011-06-24|     106|          G|Star race car Lig...|\n",
      "|    13|              Brave|  2012-06-22|      93|         PG|Determined to mak...|\n",
      "|    14|Monsters University|  2013-06-21|     104|          G|\"A look at the re...|\n",
      "|    15|         Inside Out|  2015-06-19|      95|         PG|After young Riley...|\n",
      "|    16|  The Good Dinosaur|  2015-11-25|      93|         PG|In a world where ...|\n",
      "|    17|       Finding Dory|  2016-06-17|      97|         PG|Friendly but forg...|\n",
      "|    18|             Cars 3|  2017-06-16|     102|          G|Lightning McQueen...|\n",
      "|    19|               Coco|  2017-11-22|     105|         PG|Aspiring musician...|\n",
      "|    20|      Incredibles 2|  2018-06-15|     118|         PG|The Incredibles f...|\n",
      "+------+-------------------+------------+--------+-----------+--------------------+\n",
      "only showing top 20 rows\n",
      "\n"
     ]
    }
   ],
   "source": [
    "df.show()"
   ]
  },
  {
   "cell_type": "code",
   "execution_count": 15,
   "metadata": {},
   "outputs": [
    {
     "data": {
      "text/plain": [
       "pyspark.sql.dataframe.DataFrame"
      ]
     },
     "execution_count": 15,
     "metadata": {},
     "output_type": "execute_result"
    }
   ],
   "source": [
    "type(df)"
   ]
  },
  {
   "cell_type": "code",
   "execution_count": 16,
   "metadata": {},
   "outputs": [
    {
     "data": {
      "text/plain": [
       "[Row(number=1, film='Toy Story', release_date=datetime.date(1995, 11, 22), run_time=81, film_rating='G', plot=\"A cowboy doll is profoundly threatened and jealous when a new spaceman action figure supplants him as top toy in a boy's bedroom.\"),\n",
       " Row(number=2, film=\"A Bug's Life\", release_date=datetime.date(1998, 11, 25), run_time=95, film_rating='G', plot='\"A misfit ant, looking for \"\"warriors\"\" to save his colony from greedy grasshoppers'),\n",
       " Row(number=3, film='Toy Story 2', release_date=datetime.date(1999, 11, 24), run_time=92, film_rating='G', plot='When Woody is stolen by a toy collector, Buzz and his friends set out on a rescue mission to save Woody before he becomes a museum toy property with his roundup gang Jessie, Prospector, and Bullseye.'),\n",
       " Row(number=4, film='Monsters, Inc.', release_date=datetime.date(2001, 11, 2), run_time=92, film_rating='G', plot='In order to power the city, monsters have to scare children so that they scream. However, the children are toxic to the monsters, and after a child gets through, two monsters realize things may not be what they think.'),\n",
       " Row(number=5, film='Finding Nemo', release_date=datetime.date(2003, 5, 30), run_time=100, film_rating='G', plot='After his son is captured in the Great Barrier Reef and taken to Sydney, a timid clownfish sets out on a journey to bring him home.')]"
      ]
     },
     "execution_count": 16,
     "metadata": {},
     "output_type": "execute_result"
    }
   ],
   "source": [
    "df.head(5)"
   ]
  },
  {
   "cell_type": "code",
   "execution_count": 17,
   "metadata": {},
   "outputs": [
    {
     "name": "stdout",
     "output_type": "stream",
     "text": [
      "+-------------------+\n",
      "|               film|\n",
      "+-------------------+\n",
      "|          Toy Story|\n",
      "|       A Bug's Life|\n",
      "|        Toy Story 2|\n",
      "|     Monsters, Inc.|\n",
      "|       Finding Nemo|\n",
      "|    The Incredibles|\n",
      "|               Cars|\n",
      "|        Ratatouille|\n",
      "|             WALL-E|\n",
      "|                 Up|\n",
      "|        Toy Story 3|\n",
      "|             Cars 2|\n",
      "|              Brave|\n",
      "|Monsters University|\n",
      "|         Inside Out|\n",
      "|  The Good Dinosaur|\n",
      "|       Finding Dory|\n",
      "|             Cars 3|\n",
      "|               Coco|\n",
      "|      Incredibles 2|\n",
      "+-------------------+\n",
      "only showing top 20 rows\n",
      "\n"
     ]
    }
   ],
   "source": [
    "df.select(\"film\").show()"
   ]
  },
  {
   "cell_type": "code",
   "execution_count": 18,
   "metadata": {},
   "outputs": [
    {
     "name": "stdout",
     "output_type": "stream",
     "text": [
      "+-------------------+--------------------+\n",
      "|               film|                plot|\n",
      "+-------------------+--------------------+\n",
      "|          Toy Story|A cowboy doll is ...|\n",
      "|       A Bug's Life|\"A misfit ant, lo...|\n",
      "|        Toy Story 2|When Woody is sto...|\n",
      "|     Monsters, Inc.|In order to power...|\n",
      "|       Finding Nemo|After his son is ...|\n",
      "|    The Incredibles|While trying to l...|\n",
      "|               Cars|On the way to the...|\n",
      "|        Ratatouille|A rat who can coo...|\n",
      "|             WALL-E|A robot who is re...|\n",
      "|                 Up|78-year-old Carl ...|\n",
      "|        Toy Story 3|The toys are mist...|\n",
      "|             Cars 2|Star race car Lig...|\n",
      "|              Brave|Determined to mak...|\n",
      "|Monsters University|\"A look at the re...|\n",
      "|         Inside Out|After young Riley...|\n",
      "|  The Good Dinosaur|In a world where ...|\n",
      "|       Finding Dory|Friendly but forg...|\n",
      "|             Cars 3|Lightning McQueen...|\n",
      "|               Coco|Aspiring musician...|\n",
      "|      Incredibles 2|The Incredibles f...|\n",
      "+-------------------+--------------------+\n",
      "only showing top 20 rows\n",
      "\n"
     ]
    }
   ],
   "source": [
    "df.select([\"film\",\"plot\"]).show()"
   ]
  },
  {
   "cell_type": "code",
   "execution_count": 19,
   "metadata": {},
   "outputs": [
    {
     "name": "stdout",
     "output_type": "stream",
     "text": [
      "+------+\n",
      "|number|\n",
      "+------+\n",
      "|     1|\n",
      "|     2|\n",
      "|     3|\n",
      "|     4|\n",
      "|     5|\n",
      "|     6|\n",
      "|     7|\n",
      "|     8|\n",
      "|     9|\n",
      "|    10|\n",
      "|    11|\n",
      "|    12|\n",
      "|    13|\n",
      "|    14|\n",
      "|    15|\n",
      "|    16|\n",
      "|    17|\n",
      "|    18|\n",
      "|    19|\n",
      "|    20|\n",
      "+------+\n",
      "only showing top 20 rows\n",
      "\n"
     ]
    }
   ],
   "source": [
    "df.select(df.number).show()"
   ]
  },
  {
   "cell_type": "code",
   "execution_count": 20,
   "metadata": {},
   "outputs": [
    {
     "data": {
      "text/plain": [
       "[('number', 'int'),\n",
       " ('film', 'string'),\n",
       " ('release_date', 'date'),\n",
       " ('run_time', 'int'),\n",
       " ('film_rating', 'string'),\n",
       " ('plot', 'string')]"
      ]
     },
     "execution_count": 20,
     "metadata": {},
     "output_type": "execute_result"
    }
   ],
   "source": [
    "df.dtypes"
   ]
  },
  {
   "cell_type": "code",
   "execution_count": 21,
   "metadata": {},
   "outputs": [
    {
     "name": "stderr",
     "output_type": "stream",
     "text": [
      "25/03/07 12:53:18 WARN SparkStringUtils: Truncated the string representation of a plan since it was too large. This behavior can be adjusted by setting 'spark.sql.debug.maxToStringFields'.\n",
      "[Stage 11:>                                                         (0 + 1) / 1]\r"
     ]
    },
    {
     "name": "stdout",
     "output_type": "stream",
     "text": [
      "+-------+-----------------+------------+------------------+-----------+--------------------+\n",
      "|summary|           number|        film|          run_time|film_rating|                plot|\n",
      "+-------+-----------------+------------+------------------+-----------+--------------------+\n",
      "|  count|               28|          28|                28|         28|                  28|\n",
      "|   mean|             14.5|        NULL|100.39285714285714|       NULL|                NULL|\n",
      "| stddev|8.225975119502044|        NULL|  8.04772471049259|       NULL|                NULL|\n",
      "|    min|                1|A Bug's Life|                81|          G|\"A look at the re...|\n",
      "|    max|               28|      WALL-E|               118|         PG|While trying to l...|\n",
      "+-------+-----------------+------------+------------------+-----------+--------------------+\n",
      "\n"
     ]
    },
    {
     "name": "stderr",
     "output_type": "stream",
     "text": [
      "                                                                                \r"
     ]
    }
   ],
   "source": [
    "df.describe().show()"
   ]
  },
  {
   "cell_type": "code",
   "execution_count": 22,
   "metadata": {},
   "outputs": [
    {
     "name": "stdout",
     "output_type": "stream",
     "text": [
      "+------+-------------------+------------+--------+-----------+--------------------+-----------+\n",
      "|number|               film|release_date|run_time|film_rating|                plot|NumberAdded|\n",
      "+------+-------------------+------------+--------+-----------+--------------------+-----------+\n",
      "|     1|          Toy Story|  1995-11-22|      81|          G|A cowboy doll is ...|         11|\n",
      "|     2|       A Bug's Life|  1998-11-25|      95|          G|\"A misfit ant, lo...|         12|\n",
      "|     3|        Toy Story 2|  1999-11-24|      92|          G|When Woody is sto...|         13|\n",
      "|     4|     Monsters, Inc.|  2001-11-02|      92|          G|In order to power...|         14|\n",
      "|     5|       Finding Nemo|  2003-05-30|     100|          G|After his son is ...|         15|\n",
      "|     6|    The Incredibles|  2004-11-05|     115|         PG|While trying to l...|         16|\n",
      "|     7|               Cars|  2006-06-09|     116|          G|On the way to the...|         17|\n",
      "|     8|        Ratatouille|  2007-06-29|     111|          G|A rat who can coo...|         18|\n",
      "|     9|             WALL-E|  2008-06-27|      98|          G|A robot who is re...|         19|\n",
      "|    10|                 Up|  2009-05-29|      96|         PG|78-year-old Carl ...|         20|\n",
      "|    11|        Toy Story 3|  2010-06-18|     103|          G|The toys are mist...|         21|\n",
      "|    12|             Cars 2|  2011-06-24|     106|          G|Star race car Lig...|         22|\n",
      "|    13|              Brave|  2012-06-22|      93|         PG|Determined to mak...|         23|\n",
      "|    14|Monsters University|  2013-06-21|     104|          G|\"A look at the re...|         24|\n",
      "|    15|         Inside Out|  2015-06-19|      95|         PG|After young Riley...|         25|\n",
      "|    16|  The Good Dinosaur|  2015-11-25|      93|         PG|In a world where ...|         26|\n",
      "|    17|       Finding Dory|  2016-06-17|      97|         PG|Friendly but forg...|         27|\n",
      "|    18|             Cars 3|  2017-06-16|     102|          G|Lightning McQueen...|         28|\n",
      "|    19|               Coco|  2017-11-22|     105|         PG|Aspiring musician...|         29|\n",
      "|    20|      Incredibles 2|  2018-06-15|     118|         PG|The Incredibles f...|         30|\n",
      "+------+-------------------+------------+--------+-----------+--------------------+-----------+\n",
      "only showing top 20 rows\n",
      "\n"
     ]
    }
   ],
   "source": [
    "df.withColumn(\"NumberAdded\",df[\"number\"]+10).show()"
   ]
  },
  {
   "cell_type": "code",
   "execution_count": 23,
   "metadata": {},
   "outputs": [
    {
     "name": "stdout",
     "output_type": "stream",
     "text": [
      "+------+-------------------+------------+--------+-----------+--------------------+\n",
      "|number|               film|release_date|run_time|film_rating|                plot|\n",
      "+------+-------------------+------------+--------+-----------+--------------------+\n",
      "|     1|          Toy Story|  1995-11-22|      81|          G|A cowboy doll is ...|\n",
      "|     2|       A Bug's Life|  1998-11-25|      95|          G|\"A misfit ant, lo...|\n",
      "|     3|        Toy Story 2|  1999-11-24|      92|          G|When Woody is sto...|\n",
      "|     4|     Monsters, Inc.|  2001-11-02|      92|          G|In order to power...|\n",
      "|     5|       Finding Nemo|  2003-05-30|     100|          G|After his son is ...|\n",
      "|     6|    The Incredibles|  2004-11-05|     115|         PG|While trying to l...|\n",
      "|     7|               Cars|  2006-06-09|     116|          G|On the way to the...|\n",
      "|     8|        Ratatouille|  2007-06-29|     111|          G|A rat who can coo...|\n",
      "|     9|             WALL-E|  2008-06-27|      98|          G|A robot who is re...|\n",
      "|    10|                 Up|  2009-05-29|      96|         PG|78-year-old Carl ...|\n",
      "|    11|        Toy Story 3|  2010-06-18|     103|          G|The toys are mist...|\n",
      "|    12|             Cars 2|  2011-06-24|     106|          G|Star race car Lig...|\n",
      "|    13|              Brave|  2012-06-22|      93|         PG|Determined to mak...|\n",
      "|    14|Monsters University|  2013-06-21|     104|          G|\"A look at the re...|\n",
      "|    15|         Inside Out|  2015-06-19|      95|         PG|After young Riley...|\n",
      "|    16|  The Good Dinosaur|  2015-11-25|      93|         PG|In a world where ...|\n",
      "|    17|       Finding Dory|  2016-06-17|      97|         PG|Friendly but forg...|\n",
      "|    18|             Cars 3|  2017-06-16|     102|          G|Lightning McQueen...|\n",
      "|    19|               Coco|  2017-11-22|     105|         PG|Aspiring musician...|\n",
      "|    20|      Incredibles 2|  2018-06-15|     118|         PG|The Incredibles f...|\n",
      "+------+-------------------+------------+--------+-----------+--------------------+\n",
      "only showing top 20 rows\n",
      "\n"
     ]
    }
   ],
   "source": [
    "df.show()"
   ]
  },
  {
   "cell_type": "code",
   "execution_count": 24,
   "metadata": {},
   "outputs": [],
   "source": [
    "df=df.withColumn(\"NumberAdded\",df[\"number\"]+10)"
   ]
  },
  {
   "cell_type": "code",
   "execution_count": 25,
   "metadata": {},
   "outputs": [
    {
     "name": "stdout",
     "output_type": "stream",
     "text": [
      "+------+-------------------+------------+--------+-----------+--------------------+-----------+\n",
      "|number|               film|release_date|run_time|film_rating|                plot|NumberAdded|\n",
      "+------+-------------------+------------+--------+-----------+--------------------+-----------+\n",
      "|     1|          Toy Story|  1995-11-22|      81|          G|A cowboy doll is ...|         11|\n",
      "|     2|       A Bug's Life|  1998-11-25|      95|          G|\"A misfit ant, lo...|         12|\n",
      "|     3|        Toy Story 2|  1999-11-24|      92|          G|When Woody is sto...|         13|\n",
      "|     4|     Monsters, Inc.|  2001-11-02|      92|          G|In order to power...|         14|\n",
      "|     5|       Finding Nemo|  2003-05-30|     100|          G|After his son is ...|         15|\n",
      "|     6|    The Incredibles|  2004-11-05|     115|         PG|While trying to l...|         16|\n",
      "|     7|               Cars|  2006-06-09|     116|          G|On the way to the...|         17|\n",
      "|     8|        Ratatouille|  2007-06-29|     111|          G|A rat who can coo...|         18|\n",
      "|     9|             WALL-E|  2008-06-27|      98|          G|A robot who is re...|         19|\n",
      "|    10|                 Up|  2009-05-29|      96|         PG|78-year-old Carl ...|         20|\n",
      "|    11|        Toy Story 3|  2010-06-18|     103|          G|The toys are mist...|         21|\n",
      "|    12|             Cars 2|  2011-06-24|     106|          G|Star race car Lig...|         22|\n",
      "|    13|              Brave|  2012-06-22|      93|         PG|Determined to mak...|         23|\n",
      "|    14|Monsters University|  2013-06-21|     104|          G|\"A look at the re...|         24|\n",
      "|    15|         Inside Out|  2015-06-19|      95|         PG|After young Riley...|         25|\n",
      "|    16|  The Good Dinosaur|  2015-11-25|      93|         PG|In a world where ...|         26|\n",
      "|    17|       Finding Dory|  2016-06-17|      97|         PG|Friendly but forg...|         27|\n",
      "|    18|             Cars 3|  2017-06-16|     102|          G|Lightning McQueen...|         28|\n",
      "|    19|               Coco|  2017-11-22|     105|         PG|Aspiring musician...|         29|\n",
      "|    20|      Incredibles 2|  2018-06-15|     118|         PG|The Incredibles f...|         30|\n",
      "+------+-------------------+------------+--------+-----------+--------------------+-----------+\n",
      "only showing top 20 rows\n",
      "\n"
     ]
    }
   ],
   "source": [
    "df.show()"
   ]
  },
  {
   "cell_type": "code",
   "execution_count": 26,
   "metadata": {},
   "outputs": [
    {
     "name": "stdout",
     "output_type": "stream",
     "text": [
      "+------+-------------------+------------+--------+-----------+--------------------+\n",
      "|number|               film|release_date|run_time|film_rating|                plot|\n",
      "+------+-------------------+------------+--------+-----------+--------------------+\n",
      "|     1|          Toy Story|  1995-11-22|      81|          G|A cowboy doll is ...|\n",
      "|     2|       A Bug's Life|  1998-11-25|      95|          G|\"A misfit ant, lo...|\n",
      "|     3|        Toy Story 2|  1999-11-24|      92|          G|When Woody is sto...|\n",
      "|     4|     Monsters, Inc.|  2001-11-02|      92|          G|In order to power...|\n",
      "|     5|       Finding Nemo|  2003-05-30|     100|          G|After his son is ...|\n",
      "|     6|    The Incredibles|  2004-11-05|     115|         PG|While trying to l...|\n",
      "|     7|               Cars|  2006-06-09|     116|          G|On the way to the...|\n",
      "|     8|        Ratatouille|  2007-06-29|     111|          G|A rat who can coo...|\n",
      "|     9|             WALL-E|  2008-06-27|      98|          G|A robot who is re...|\n",
      "|    10|                 Up|  2009-05-29|      96|         PG|78-year-old Carl ...|\n",
      "|    11|        Toy Story 3|  2010-06-18|     103|          G|The toys are mist...|\n",
      "|    12|             Cars 2|  2011-06-24|     106|          G|Star race car Lig...|\n",
      "|    13|              Brave|  2012-06-22|      93|         PG|Determined to mak...|\n",
      "|    14|Monsters University|  2013-06-21|     104|          G|\"A look at the re...|\n",
      "|    15|         Inside Out|  2015-06-19|      95|         PG|After young Riley...|\n",
      "|    16|  The Good Dinosaur|  2015-11-25|      93|         PG|In a world where ...|\n",
      "|    17|       Finding Dory|  2016-06-17|      97|         PG|Friendly but forg...|\n",
      "|    18|             Cars 3|  2017-06-16|     102|          G|Lightning McQueen...|\n",
      "|    19|               Coco|  2017-11-22|     105|         PG|Aspiring musician...|\n",
      "|    20|      Incredibles 2|  2018-06-15|     118|         PG|The Incredibles f...|\n",
      "+------+-------------------+------------+--------+-----------+--------------------+\n",
      "only showing top 20 rows\n",
      "\n"
     ]
    }
   ],
   "source": [
    "df.drop(\"NumberAdded\").show()"
   ]
  },
  {
   "cell_type": "code",
   "execution_count": 27,
   "metadata": {},
   "outputs": [
    {
     "name": "stdout",
     "output_type": "stream",
     "text": [
      "+------+-------------------+------------+--------+-----------+--------------------+-----------+\n",
      "|number|               film|release_date|run_time|film_rating|                plot|NumberAdded|\n",
      "+------+-------------------+------------+--------+-----------+--------------------+-----------+\n",
      "|     1|          Toy Story|  1995-11-22|      81|          G|A cowboy doll is ...|         11|\n",
      "|     2|       A Bug's Life|  1998-11-25|      95|          G|\"A misfit ant, lo...|         12|\n",
      "|     3|        Toy Story 2|  1999-11-24|      92|          G|When Woody is sto...|         13|\n",
      "|     4|     Monsters, Inc.|  2001-11-02|      92|          G|In order to power...|         14|\n",
      "|     5|       Finding Nemo|  2003-05-30|     100|          G|After his son is ...|         15|\n",
      "|     6|    The Incredibles|  2004-11-05|     115|         PG|While trying to l...|         16|\n",
      "|     7|               Cars|  2006-06-09|     116|          G|On the way to the...|         17|\n",
      "|     8|        Ratatouille|  2007-06-29|     111|          G|A rat who can coo...|         18|\n",
      "|     9|             WALL-E|  2008-06-27|      98|          G|A robot who is re...|         19|\n",
      "|    10|                 Up|  2009-05-29|      96|         PG|78-year-old Carl ...|         20|\n",
      "|    11|        Toy Story 3|  2010-06-18|     103|          G|The toys are mist...|         21|\n",
      "|    12|             Cars 2|  2011-06-24|     106|          G|Star race car Lig...|         22|\n",
      "|    13|              Brave|  2012-06-22|      93|         PG|Determined to mak...|         23|\n",
      "|    14|Monsters University|  2013-06-21|     104|          G|\"A look at the re...|         24|\n",
      "|    15|         Inside Out|  2015-06-19|      95|         PG|After young Riley...|         25|\n",
      "|    16|  The Good Dinosaur|  2015-11-25|      93|         PG|In a world where ...|         26|\n",
      "|    17|       Finding Dory|  2016-06-17|      97|         PG|Friendly but forg...|         27|\n",
      "|    18|             Cars 3|  2017-06-16|     102|          G|Lightning McQueen...|         28|\n",
      "|    19|               Coco|  2017-11-22|     105|         PG|Aspiring musician...|         29|\n",
      "|    20|      Incredibles 2|  2018-06-15|     118|         PG|The Incredibles f...|         30|\n",
      "+------+-------------------+------------+--------+-----------+--------------------+-----------+\n",
      "only showing top 20 rows\n",
      "\n"
     ]
    }
   ],
   "source": [
    "df.show()"
   ]
  },
  {
   "cell_type": "code",
   "execution_count": 28,
   "metadata": {},
   "outputs": [],
   "source": [
    "df=df.drop(\"NumberAdded\")"
   ]
  },
  {
   "cell_type": "code",
   "execution_count": 29,
   "metadata": {},
   "outputs": [
    {
     "name": "stdout",
     "output_type": "stream",
     "text": [
      "+------+-------------------+------------+--------+-----------+--------------------+\n",
      "|number|               film|release_date|run_time|film_rating|                plot|\n",
      "+------+-------------------+------------+--------+-----------+--------------------+\n",
      "|     1|          Toy Story|  1995-11-22|      81|          G|A cowboy doll is ...|\n",
      "|     2|       A Bug's Life|  1998-11-25|      95|          G|\"A misfit ant, lo...|\n",
      "|     3|        Toy Story 2|  1999-11-24|      92|          G|When Woody is sto...|\n",
      "|     4|     Monsters, Inc.|  2001-11-02|      92|          G|In order to power...|\n",
      "|     5|       Finding Nemo|  2003-05-30|     100|          G|After his son is ...|\n",
      "|     6|    The Incredibles|  2004-11-05|     115|         PG|While trying to l...|\n",
      "|     7|               Cars|  2006-06-09|     116|          G|On the way to the...|\n",
      "|     8|        Ratatouille|  2007-06-29|     111|          G|A rat who can coo...|\n",
      "|     9|             WALL-E|  2008-06-27|      98|          G|A robot who is re...|\n",
      "|    10|                 Up|  2009-05-29|      96|         PG|78-year-old Carl ...|\n",
      "|    11|        Toy Story 3|  2010-06-18|     103|          G|The toys are mist...|\n",
      "|    12|             Cars 2|  2011-06-24|     106|          G|Star race car Lig...|\n",
      "|    13|              Brave|  2012-06-22|      93|         PG|Determined to mak...|\n",
      "|    14|Monsters University|  2013-06-21|     104|          G|\"A look at the re...|\n",
      "|    15|         Inside Out|  2015-06-19|      95|         PG|After young Riley...|\n",
      "|    16|  The Good Dinosaur|  2015-11-25|      93|         PG|In a world where ...|\n",
      "|    17|       Finding Dory|  2016-06-17|      97|         PG|Friendly but forg...|\n",
      "|    18|             Cars 3|  2017-06-16|     102|          G|Lightning McQueen...|\n",
      "|    19|               Coco|  2017-11-22|     105|         PG|Aspiring musician...|\n",
      "|    20|      Incredibles 2|  2018-06-15|     118|         PG|The Incredibles f...|\n",
      "+------+-------------------+------------+--------+-----------+--------------------+\n",
      "only showing top 20 rows\n",
      "\n"
     ]
    }
   ],
   "source": [
    "df.show()"
   ]
  },
  {
   "cell_type": "code",
   "execution_count": 30,
   "metadata": {},
   "outputs": [
    {
     "name": "stdout",
     "output_type": "stream",
     "text": [
      "+---+-------------------+------------+--------+-----------+--------------------+\n",
      "|num|               film|release_date|run_time|film_rating|                plot|\n",
      "+---+-------------------+------------+--------+-----------+--------------------+\n",
      "|  1|          Toy Story|  1995-11-22|      81|          G|A cowboy doll is ...|\n",
      "|  2|       A Bug's Life|  1998-11-25|      95|          G|\"A misfit ant, lo...|\n",
      "|  3|        Toy Story 2|  1999-11-24|      92|          G|When Woody is sto...|\n",
      "|  4|     Monsters, Inc.|  2001-11-02|      92|          G|In order to power...|\n",
      "|  5|       Finding Nemo|  2003-05-30|     100|          G|After his son is ...|\n",
      "|  6|    The Incredibles|  2004-11-05|     115|         PG|While trying to l...|\n",
      "|  7|               Cars|  2006-06-09|     116|          G|On the way to the...|\n",
      "|  8|        Ratatouille|  2007-06-29|     111|          G|A rat who can coo...|\n",
      "|  9|             WALL-E|  2008-06-27|      98|          G|A robot who is re...|\n",
      "| 10|                 Up|  2009-05-29|      96|         PG|78-year-old Carl ...|\n",
      "| 11|        Toy Story 3|  2010-06-18|     103|          G|The toys are mist...|\n",
      "| 12|             Cars 2|  2011-06-24|     106|          G|Star race car Lig...|\n",
      "| 13|              Brave|  2012-06-22|      93|         PG|Determined to mak...|\n",
      "| 14|Monsters University|  2013-06-21|     104|          G|\"A look at the re...|\n",
      "| 15|         Inside Out|  2015-06-19|      95|         PG|After young Riley...|\n",
      "| 16|  The Good Dinosaur|  2015-11-25|      93|         PG|In a world where ...|\n",
      "| 17|       Finding Dory|  2016-06-17|      97|         PG|Friendly but forg...|\n",
      "| 18|             Cars 3|  2017-06-16|     102|          G|Lightning McQueen...|\n",
      "| 19|               Coco|  2017-11-22|     105|         PG|Aspiring musician...|\n",
      "| 20|      Incredibles 2|  2018-06-15|     118|         PG|The Incredibles f...|\n",
      "+---+-------------------+------------+--------+-----------+--------------------+\n",
      "only showing top 20 rows\n",
      "\n"
     ]
    }
   ],
   "source": [
    "df.withColumnRenamed(\"number\",\"num\").show()"
   ]
  },
  {
   "cell_type": "code",
   "execution_count": 31,
   "metadata": {},
   "outputs": [
    {
     "name": "stdout",
     "output_type": "stream",
     "text": [
      "+------+-------------------+------------+--------+-----------+--------------------+\n",
      "|number|               film|release_date|run_time|film_rating|                plot|\n",
      "+------+-------------------+------------+--------+-----------+--------------------+\n",
      "|     1|          Toy Story|  1995-11-22|      81|          G|A cowboy doll is ...|\n",
      "|     2|       A Bug's Life|  1998-11-25|      95|          G|\"A misfit ant, lo...|\n",
      "|     3|        Toy Story 2|  1999-11-24|      92|          G|When Woody is sto...|\n",
      "|     4|     Monsters, Inc.|  2001-11-02|      92|          G|In order to power...|\n",
      "|     5|       Finding Nemo|  2003-05-30|     100|          G|After his son is ...|\n",
      "|     6|    The Incredibles|  2004-11-05|     115|         PG|While trying to l...|\n",
      "|     7|               Cars|  2006-06-09|     116|          G|On the way to the...|\n",
      "|     8|        Ratatouille|  2007-06-29|     111|          G|A rat who can coo...|\n",
      "|     9|             WALL-E|  2008-06-27|      98|          G|A robot who is re...|\n",
      "|    10|                 Up|  2009-05-29|      96|         PG|78-year-old Carl ...|\n",
      "|    11|        Toy Story 3|  2010-06-18|     103|          G|The toys are mist...|\n",
      "|    12|             Cars 2|  2011-06-24|     106|          G|Star race car Lig...|\n",
      "|    13|              Brave|  2012-06-22|      93|         PG|Determined to mak...|\n",
      "|    14|Monsters University|  2013-06-21|     104|          G|\"A look at the re...|\n",
      "|    15|         Inside Out|  2015-06-19|      95|         PG|After young Riley...|\n",
      "|    16|  The Good Dinosaur|  2015-11-25|      93|         PG|In a world where ...|\n",
      "|    17|       Finding Dory|  2016-06-17|      97|         PG|Friendly but forg...|\n",
      "|    18|             Cars 3|  2017-06-16|     102|          G|Lightning McQueen...|\n",
      "|    19|               Coco|  2017-11-22|     105|         PG|Aspiring musician...|\n",
      "|    20|      Incredibles 2|  2018-06-15|     118|         PG|The Incredibles f...|\n",
      "+------+-------------------+------------+--------+-----------+--------------------+\n",
      "only showing top 20 rows\n",
      "\n"
     ]
    }
   ],
   "source": [
    "df.show()"
   ]
  },
  {
   "cell_type": "code",
   "execution_count": null,
   "metadata": {},
   "outputs": [],
   "source": []
  },
  {
   "cell_type": "code",
   "execution_count": null,
   "metadata": {},
   "outputs": [],
   "source": []
  },
  {
   "cell_type": "code",
   "execution_count": null,
   "metadata": {},
   "outputs": [],
   "source": []
  }
 ],
 "metadata": {
  "kernelspec": {
   "display_name": "venv_Py",
   "language": "python",
   "name": "python3"
  },
  "language_info": {
   "codemirror_mode": {
    "name": "ipython",
    "version": 3
   },
   "file_extension": ".py",
   "mimetype": "text/x-python",
   "name": "python",
   "nbconvert_exporter": "python",
   "pygments_lexer": "ipython3",
   "version": "3.12.9"
  }
 },
 "nbformat": 4,
 "nbformat_minor": 2
}
