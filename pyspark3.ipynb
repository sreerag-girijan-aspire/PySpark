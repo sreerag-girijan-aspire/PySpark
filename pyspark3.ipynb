{
 "cells": [
  {
   "cell_type": "code",
   "execution_count": 2,
   "metadata": {},
   "outputs": [
    {
     "name": "stderr",
     "output_type": "stream",
     "text": [
      "25/03/07 15:57:38 WARN Utils: Your hostname, ASDLAPKCH0627 resolves to a loopback address: 127.0.1.1; using 10.10.150.163 instead (on interface wlp0s20f3)\n",
      "25/03/07 15:57:38 WARN Utils: Set SPARK_LOCAL_IP if you need to bind to another address\n",
      "Setting default log level to \"WARN\".\n",
      "To adjust logging level use sc.setLogLevel(newLevel). For SparkR, use setLogLevel(newLevel).\n",
      "25/03/07 15:57:38 WARN NativeCodeLoader: Unable to load native-hadoop library for your platform... using builtin-java classes where applicable\n",
      "25/03/07 15:57:39 WARN Utils: Service 'SparkUI' could not bind on port 4040. Attempting port 4041.\n",
      "25/03/07 15:57:39 WARN Utils: Service 'SparkUI' could not bind on port 4041. Attempting port 4042.\n"
     ]
    }
   ],
   "source": [
    "from pyspark.sql import SparkSession\n",
    "spark=SparkSession.builder.appName(\"P3\").getOrCreate()"
   ]
  },
  {
   "cell_type": "code",
   "execution_count": 6,
   "metadata": {},
   "outputs": [],
   "source": [
    "df=spark.read.option(\"header\",\"true\").csv(\"public_response.csv\",inferSchema=True)"
   ]
  },
  {
   "cell_type": "code",
   "execution_count": 7,
   "metadata": {},
   "outputs": [
    {
     "name": "stdout",
     "output_type": "stream",
     "text": [
      "+-------------------+---------------------+----------------------+----------------+-----------------+------------+----------+-----------+\n",
      "|               film|rotten_tomatoes_score|rotten_tomatoes_counts|metacritic_score|metacritic_counts|cinema_score|imdb_score|imdb_counts|\n",
      "+-------------------+---------------------+----------------------+----------------+-----------------+------------+----------+-----------+\n",
      "|          Toy Story|                  100|                    96|              95|               26|           A|       8.3|    1089101|\n",
      "|       A Bug's Life|                   92|                    91|              78|               23|           A|       7.2|     319596|\n",
      "|        Toy Story 2|                  100|                   172|              88|               34|          A+|       7.9|     630573|\n",
      "|     Monsters, Inc.|                   96|                   199|              79|               35|          A+|       8.1|    1000657|\n",
      "|       Finding Nemo|                   99|                   270|              90|               38|          A+|       8.2|    1132877|\n",
      "|    The Incredibles|                   97|                   250|              90|               41|          A+|       8.0|     828986|\n",
      "|               Cars|                   75|                   204|              73|               39|           A|       7.2|     484034|\n",
      "|        Ratatouille|                   96|                   253|              96|               37|           A|       8.1|     851229|\n",
      "|             WALL-E|                   95|                   261|              95|               39|           A|       8.4|    1226415|\n",
      "|                 Up|                   98|                   297|              88|               37|          A+|       8.3|    1151249|\n",
      "|        Toy Story 3|                   98|                   313|              92|               39|           A|       8.3|     908222|\n",
      "|             Cars 2|                   40|                   220|              57|               38|          A-|       6.2|     225724|\n",
      "|              Brave|                   79|                   256|              69|               37|           A|       7.1|     452012|\n",
      "|Monsters University|                   80|                   203|              65|               41|           A|       7.2|     398903|\n",
      "|         Inside Out|                   98|                   387|              94|               55|           A|       8.1|     834268|\n",
      "|  The Good Dinosaur|                   75|                   220|              66|               37|           A|       6.7|     130324|\n",
      "|       Finding Dory|                   94|                   339|              77|               48|           A|       7.2|     311793|\n",
      "|             Cars 3|                   69|                   234|              59|               41|           A|       6.7|     128849|\n",
      "|               Coco|                   97|                   357|              81|               48|          A+|       8.4|     618005|\n",
      "|      Incredibles 2|                   93|                   390|              80|               51|          A+|       7.5|     341353|\n",
      "+-------------------+---------------------+----------------------+----------------+-----------------+------------+----------+-----------+\n",
      "only showing top 20 rows\n",
      "\n"
     ]
    }
   ],
   "source": [
    "df.show()"
   ]
  },
  {
   "cell_type": "code",
   "execution_count": 8,
   "metadata": {},
   "outputs": [
    {
     "name": "stdout",
     "output_type": "stream",
     "text": [
      "root\n",
      " |-- film: string (nullable = true)\n",
      " |-- rotten_tomatoes_score: integer (nullable = true)\n",
      " |-- rotten_tomatoes_counts: integer (nullable = true)\n",
      " |-- metacritic_score: integer (nullable = true)\n",
      " |-- metacritic_counts: integer (nullable = true)\n",
      " |-- cinema_score: string (nullable = true)\n",
      " |-- imdb_score: double (nullable = true)\n",
      " |-- imdb_counts: integer (nullable = true)\n",
      "\n"
     ]
    }
   ],
   "source": [
    "df.printSchema()"
   ]
  },
  {
   "cell_type": "code",
   "execution_count": 9,
   "metadata": {},
   "outputs": [
    {
     "data": {
      "text/plain": [
       "['film',\n",
       " 'rotten_tomatoes_score',\n",
       " 'rotten_tomatoes_counts',\n",
       " 'metacritic_score',\n",
       " 'metacritic_counts',\n",
       " 'cinema_score',\n",
       " 'imdb_score',\n",
       " 'imdb_counts']"
      ]
     },
     "execution_count": 9,
     "metadata": {},
     "output_type": "execute_result"
    }
   ],
   "source": [
    "df.columns"
   ]
  },
  {
   "cell_type": "code",
   "execution_count": 16,
   "metadata": {},
   "outputs": [],
   "source": [
    "from pyspark.ml.feature import VectorAssembler\n",
    "feature=VectorAssembler(inputCols=[\"rotten_tomatoes_score\",\"imdb_counts\"],outputCol=\"score_relation\")"
   ]
  },
  {
   "cell_type": "code",
   "execution_count": 17,
   "metadata": {},
   "outputs": [],
   "source": [
    "output=feature.transform(df)"
   ]
  },
  {
   "cell_type": "code",
   "execution_count": 18,
   "metadata": {},
   "outputs": [
    {
     "name": "stdout",
     "output_type": "stream",
     "text": [
      "+-------------------+---------------------+----------------------+----------------+-----------------+------------+----------+-----------+-----------------+\n",
      "|               film|rotten_tomatoes_score|rotten_tomatoes_counts|metacritic_score|metacritic_counts|cinema_score|imdb_score|imdb_counts|   score_relation|\n",
      "+-------------------+---------------------+----------------------+----------------+-----------------+------------+----------+-----------+-----------------+\n",
      "|          Toy Story|                  100|                    96|              95|               26|           A|       8.3|    1089101|[100.0,1089101.0]|\n",
      "|       A Bug's Life|                   92|                    91|              78|               23|           A|       7.2|     319596|  [92.0,319596.0]|\n",
      "|        Toy Story 2|                  100|                   172|              88|               34|          A+|       7.9|     630573| [100.0,630573.0]|\n",
      "|     Monsters, Inc.|                   96|                   199|              79|               35|          A+|       8.1|    1000657| [96.0,1000657.0]|\n",
      "|       Finding Nemo|                   99|                   270|              90|               38|          A+|       8.2|    1132877| [99.0,1132877.0]|\n",
      "|    The Incredibles|                   97|                   250|              90|               41|          A+|       8.0|     828986|  [97.0,828986.0]|\n",
      "|               Cars|                   75|                   204|              73|               39|           A|       7.2|     484034|  [75.0,484034.0]|\n",
      "|        Ratatouille|                   96|                   253|              96|               37|           A|       8.1|     851229|  [96.0,851229.0]|\n",
      "|             WALL-E|                   95|                   261|              95|               39|           A|       8.4|    1226415| [95.0,1226415.0]|\n",
      "|                 Up|                   98|                   297|              88|               37|          A+|       8.3|    1151249| [98.0,1151249.0]|\n",
      "|        Toy Story 3|                   98|                   313|              92|               39|           A|       8.3|     908222|  [98.0,908222.0]|\n",
      "|             Cars 2|                   40|                   220|              57|               38|          A-|       6.2|     225724|  [40.0,225724.0]|\n",
      "|              Brave|                   79|                   256|              69|               37|           A|       7.1|     452012|  [79.0,452012.0]|\n",
      "|Monsters University|                   80|                   203|              65|               41|           A|       7.2|     398903|  [80.0,398903.0]|\n",
      "|         Inside Out|                   98|                   387|              94|               55|           A|       8.1|     834268|  [98.0,834268.0]|\n",
      "|  The Good Dinosaur|                   75|                   220|              66|               37|           A|       6.7|     130324|  [75.0,130324.0]|\n",
      "|       Finding Dory|                   94|                   339|              77|               48|           A|       7.2|     311793|  [94.0,311793.0]|\n",
      "|             Cars 3|                   69|                   234|              59|               41|           A|       6.7|     128849|  [69.0,128849.0]|\n",
      "|               Coco|                   97|                   357|              81|               48|          A+|       8.4|     618005|  [97.0,618005.0]|\n",
      "|      Incredibles 2|                   93|                   390|              80|               51|          A+|       7.5|     341353|  [93.0,341353.0]|\n",
      "+-------------------+---------------------+----------------------+----------------+-----------------+------------+----------+-----------+-----------------+\n",
      "only showing top 20 rows\n",
      "\n"
     ]
    }
   ],
   "source": [
    "output.show()"
   ]
  },
  {
   "cell_type": "code",
   "execution_count": 19,
   "metadata": {},
   "outputs": [],
   "source": [
    "final_data=output.select(\"score_relation\",\"imdb_score\")"
   ]
  },
  {
   "cell_type": "code",
   "execution_count": 20,
   "metadata": {},
   "outputs": [
    {
     "name": "stdout",
     "output_type": "stream",
     "text": [
      "+-----------------+----------+\n",
      "|   score_relation|imdb_score|\n",
      "+-----------------+----------+\n",
      "|[100.0,1089101.0]|       8.3|\n",
      "|  [92.0,319596.0]|       7.2|\n",
      "| [100.0,630573.0]|       7.9|\n",
      "| [96.0,1000657.0]|       8.1|\n",
      "| [99.0,1132877.0]|       8.2|\n",
      "|  [97.0,828986.0]|       8.0|\n",
      "|  [75.0,484034.0]|       7.2|\n",
      "|  [96.0,851229.0]|       8.1|\n",
      "| [95.0,1226415.0]|       8.4|\n",
      "| [98.0,1151249.0]|       8.3|\n",
      "|  [98.0,908222.0]|       8.3|\n",
      "|  [40.0,225724.0]|       6.2|\n",
      "|  [79.0,452012.0]|       7.1|\n",
      "|  [80.0,398903.0]|       7.2|\n",
      "|  [98.0,834268.0]|       8.1|\n",
      "|  [75.0,130324.0]|       6.7|\n",
      "|  [94.0,311793.0]|       7.2|\n",
      "|  [69.0,128849.0]|       6.7|\n",
      "|  [97.0,618005.0]|       8.4|\n",
      "|  [93.0,341353.0]|       7.5|\n",
      "+-----------------+----------+\n",
      "only showing top 20 rows\n",
      "\n"
     ]
    }
   ],
   "source": [
    "final_data.show()"
   ]
  },
  {
   "cell_type": "code",
   "execution_count": 21,
   "metadata": {},
   "outputs": [
    {
     "name": "stderr",
     "output_type": "stream",
     "text": [
      "25/03/07 17:14:55 WARN Instrumentation: [bcba632e] regParam is zero, which might cause numerical instability and overfitting.\n",
      "25/03/07 17:14:55 WARN InstanceBuilder: Failed to load implementation from:dev.ludovic.netlib.blas.JNIBLAS\n",
      "25/03/07 17:14:55 WARN InstanceBuilder: Failed to load implementation from:dev.ludovic.netlib.lapack.JNILAPACK\n"
     ]
    }
   ],
   "source": [
    "from pyspark.ml.regression import LinearRegression\n",
    "train_data,test_data=final_data.randomSplit([0.75,0.25])\n",
    "regressor=LinearRegression(featuresCol=\"score_relation\",labelCol=\"imdb_score\")\n",
    "regressor=regressor.fit(train_data)"
   ]
  },
  {
   "cell_type": "code",
   "execution_count": 22,
   "metadata": {},
   "outputs": [
    {
     "data": {
      "text/plain": [
       "DenseVector([0.028, 0.0])"
      ]
     },
     "execution_count": 22,
     "metadata": {},
     "output_type": "execute_result"
    }
   ],
   "source": [
    "regressor.coefficients"
   ]
  },
  {
   "cell_type": "code",
   "execution_count": 23,
   "metadata": {},
   "outputs": [
    {
     "data": {
      "text/plain": [
       "4.602334651229873"
      ]
     },
     "execution_count": 23,
     "metadata": {},
     "output_type": "execute_result"
    }
   ],
   "source": [
    "regressor.intercept"
   ]
  },
  {
   "cell_type": "code",
   "execution_count": 24,
   "metadata": {},
   "outputs": [],
   "source": [
    "pred_result=regressor.evaluate(test_data)"
   ]
  },
  {
   "cell_type": "code",
   "execution_count": 25,
   "metadata": {},
   "outputs": [
    {
     "name": "stdout",
     "output_type": "stream",
     "text": [
      "+---------------+----------+------------------+\n",
      "| score_relation|imdb_score|        prediction|\n",
      "+---------------+----------+------------------+\n",
      "|[73.0,140174.0]|       7.0| 6.772081221937828|\n",
      "|[90.0,168090.0]|       7.6| 7.273112335849904|\n",
      "|[94.0,311793.0]|       7.2|  7.51435926033068|\n",
      "|[95.0,158649.0]|       7.0|7.4045962142573645|\n",
      "+---------------+----------+------------------+\n",
      "\n"
     ]
    }
   ],
   "source": [
    "pred_result.predictions.show()"
   ]
  },
  {
   "cell_type": "code",
   "execution_count": null,
   "metadata": {},
   "outputs": [],
   "source": []
  }
 ],
 "metadata": {
  "kernelspec": {
   "display_name": "venv_Py",
   "language": "python",
   "name": "python3"
  },
  "language_info": {
   "codemirror_mode": {
    "name": "ipython",
    "version": 3
   },
   "file_extension": ".py",
   "mimetype": "text/x-python",
   "name": "python",
   "nbconvert_exporter": "python",
   "pygments_lexer": "ipython3",
   "version": "3.12.9"
  }
 },
 "nbformat": 4,
 "nbformat_minor": 2
}
