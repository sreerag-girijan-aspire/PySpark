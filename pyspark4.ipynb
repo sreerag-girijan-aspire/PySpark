{
 "cells": [
  {
   "cell_type": "code",
   "execution_count": 1,
   "metadata": {},
   "outputs": [
    {
     "name": "stderr",
     "output_type": "stream",
     "text": [
      "25/03/07 17:21:51 WARN Utils: Your hostname, ASDLAPKCH0627 resolves to a loopback address: 127.0.1.1; using 10.10.150.163 instead (on interface wlp0s20f3)\n",
      "25/03/07 17:21:51 WARN Utils: Set SPARK_LOCAL_IP if you need to bind to another address\n",
      "Setting default log level to \"WARN\".\n",
      "To adjust logging level use sc.setLogLevel(newLevel). For SparkR, use setLogLevel(newLevel).\n",
      "25/03/07 17:21:52 WARN NativeCodeLoader: Unable to load native-hadoop library for your platform... using builtin-java classes where applicable\n",
      "25/03/07 17:21:53 WARN Utils: Service 'SparkUI' could not bind on port 4040. Attempting port 4041.\n",
      "25/03/07 17:21:53 WARN Utils: Service 'SparkUI' could not bind on port 4041. Attempting port 4042.\n",
      "25/03/07 17:21:53 WARN Utils: Service 'SparkUI' could not bind on port 4042. Attempting port 4043.\n"
     ]
    }
   ],
   "source": [
    "from pyspark.sql import SparkSession\n",
    "spark=SparkSession.builder.appName(\"P4\").getOrCreate()"
   ]
  },
  {
   "cell_type": "code",
   "execution_count": null,
   "metadata": {},
   "outputs": [],
   "source": [
    "df=spark.read.option(\"header\",\"true\").csv(\"box_office.csv\",inferSchema=True)"
   ]
  },
  {
   "cell_type": "code",
   "execution_count": 3,
   "metadata": {},
   "outputs": [
    {
     "name": "stdout",
     "output_type": "stream",
     "text": [
      "+-------------------+---------+--------------------+----------------+--------------------+\n",
      "|               film|   budget|box_office_us_canada|box_office_other|box_office_worldwide|\n",
      "+-------------------+---------+--------------------+----------------+--------------------+\n",
      "|          Toy Story| 30000000|           223225679|       171210907|           394436586|\n",
      "|       A Bug's Life|120000000|           162798565|       200460294|           363258859|\n",
      "|        Toy Story 2| 90000000|           245852179|       265506097|           511358276|\n",
      "|     Monsters, Inc.|115000000|           255873250|       272900000|           528773250|\n",
      "|       Finding Nemo| 94000000|           339714978|       531300000|           871014978|\n",
      "|    The Incredibles| 92000000|           261441092|       370001000|           631442092|\n",
      "|               Cars|120000000|           244082982|       217900167|           461983149|\n",
      "|        Ratatouille|150000000|           206445654|       417280431|           623726085|\n",
      "|             WALL-E|180000000|           223808164|       297503696|           521311860|\n",
      "|                 Up|175000000|           293004164|       442094918|           735099082|\n",
      "|        Toy Story 3|200000000|           415004880|       651964823|          1066969703|\n",
      "|             Cars 2|200000000|           191452396|       368400000|           559852396|\n",
      "|              Brave|185000000|           237283207|       301700000|           538983207|\n",
      "|Monsters University|200000000|           268492764|       475066843|           743559607|\n",
      "|         Inside Out|175000000|           356461711|       501149463|           857611174|\n",
      "|  The Good Dinosaur|175000000|           123087120|       209120551|           332207671|\n",
      "|       Finding Dory|200000000|           486295561|       542275328|          1028570889|\n",
      "|             Cars 3|175000000|           152901115|       231029541|           383930656|\n",
      "|               Coco|175000000|           210460015|       604181157|           814641172|\n",
      "|      Incredibles 2|200000000|           608581744|       634223615|          1242805359|\n",
      "+-------------------+---------+--------------------+----------------+--------------------+\n",
      "only showing top 20 rows\n",
      "\n"
     ]
    }
   ],
   "source": [
    "df.show()"
   ]
  },
  {
   "cell_type": "code",
   "execution_count": 4,
   "metadata": {},
   "outputs": [
    {
     "data": {
      "text/plain": [
       "[Row(film='Toy Story', budget='30000000', box_office_us_canada=223225679, box_office_other=171210907, box_office_worldwide=394436586),\n",
       " Row(film=\"A Bug's Life\", budget='120000000', box_office_us_canada=162798565, box_office_other=200460294, box_office_worldwide=363258859),\n",
       " Row(film='Toy Story 2', budget='90000000', box_office_us_canada=245852179, box_office_other=265506097, box_office_worldwide=511358276),\n",
       " Row(film='Monsters, Inc.', budget='115000000', box_office_us_canada=255873250, box_office_other=272900000, box_office_worldwide=528773250),\n",
       " Row(film='Finding Nemo', budget='94000000', box_office_us_canada=339714978, box_office_other=531300000, box_office_worldwide=871014978),\n",
       " Row(film='The Incredibles', budget='92000000', box_office_us_canada=261441092, box_office_other=370001000, box_office_worldwide=631442092),\n",
       " Row(film='Cars', budget='120000000', box_office_us_canada=244082982, box_office_other=217900167, box_office_worldwide=461983149),\n",
       " Row(film='Ratatouille', budget='150000000', box_office_us_canada=206445654, box_office_other=417280431, box_office_worldwide=623726085),\n",
       " Row(film='WALL-E', budget='180000000', box_office_us_canada=223808164, box_office_other=297503696, box_office_worldwide=521311860),\n",
       " Row(film='Up', budget='175000000', box_office_us_canada=293004164, box_office_other=442094918, box_office_worldwide=735099082),\n",
       " Row(film='Toy Story 3', budget='200000000', box_office_us_canada=415004880, box_office_other=651964823, box_office_worldwide=1066969703),\n",
       " Row(film='Cars 2', budget='200000000', box_office_us_canada=191452396, box_office_other=368400000, box_office_worldwide=559852396),\n",
       " Row(film='Brave', budget='185000000', box_office_us_canada=237283207, box_office_other=301700000, box_office_worldwide=538983207),\n",
       " Row(film='Monsters University', budget='200000000', box_office_us_canada=268492764, box_office_other=475066843, box_office_worldwide=743559607),\n",
       " Row(film='Inside Out', budget='175000000', box_office_us_canada=356461711, box_office_other=501149463, box_office_worldwide=857611174),\n",
       " Row(film='The Good Dinosaur', budget='175000000', box_office_us_canada=123087120, box_office_other=209120551, box_office_worldwide=332207671),\n",
       " Row(film='Finding Dory', budget='200000000', box_office_us_canada=486295561, box_office_other=542275328, box_office_worldwide=1028570889),\n",
       " Row(film='Cars 3', budget='175000000', box_office_us_canada=152901115, box_office_other=231029541, box_office_worldwide=383930656),\n",
       " Row(film='Coco', budget='175000000', box_office_us_canada=210460015, box_office_other=604181157, box_office_worldwide=814641172),\n",
       " Row(film='Incredibles 2', budget='200000000', box_office_us_canada=608581744, box_office_other=634223615, box_office_worldwide=1242805359),\n",
       " Row(film='Toy Story 4', budget='200000000', box_office_us_canada=434038008, box_office_other=639356585, box_office_worldwide=1073394593),\n",
       " Row(film='Onward', budget='175000000', box_office_us_canada=61555145, box_office_other=80384897, box_office_worldwide=141940042),\n",
       " Row(film='Soul', budget='150000000', box_office_us_canada=946154, box_office_other=120957731, box_office_worldwide=121903885),\n",
       " Row(film='Luca', budget='NA', box_office_us_canada=1324302, box_office_other=49788012, box_office_worldwide=51112314),\n",
       " Row(film='Turning Red', budget='175000000', box_office_us_canada=1399001, box_office_other=20414357, box_office_worldwide=21813358),\n",
       " Row(film='Lightyear', budget='200000000', box_office_us_canada=118307188, box_office_other=108118232, box_office_worldwide=226425420),\n",
       " Row(film='Elemental', budget='200000000', box_office_us_canada=154426697, box_office_other=342017611, box_office_worldwide=496444308),\n",
       " Row(film='Inside Out 2', budget='200000000', box_office_us_canada=652980194, box_office_other=1045050771, box_office_worldwide=1698030965)]"
      ]
     },
     "execution_count": 4,
     "metadata": {},
     "output_type": "execute_result"
    }
   ],
   "source": [
    "df.collect()"
   ]
  },
  {
   "cell_type": "code",
   "execution_count": 5,
   "metadata": {},
   "outputs": [
    {
     "name": "stdout",
     "output_type": "stream",
     "text": [
      "-RECORD 0-----------------------------------\n",
      " film                 | Toy Story           \n",
      " budget               | 30000000            \n",
      " box_office_us_canada | 223225679           \n",
      " box_office_other     | 171210907           \n",
      " box_office_worldwide | 394436586           \n",
      "-RECORD 1-----------------------------------\n",
      " film                 | A Bug's Life        \n",
      " budget               | 120000000           \n",
      " box_office_us_canada | 162798565           \n",
      " box_office_other     | 200460294           \n",
      " box_office_worldwide | 363258859           \n",
      "-RECORD 2-----------------------------------\n",
      " film                 | Toy Story 2         \n",
      " budget               | 90000000            \n",
      " box_office_us_canada | 245852179           \n",
      " box_office_other     | 265506097           \n",
      " box_office_worldwide | 511358276           \n",
      "-RECORD 3-----------------------------------\n",
      " film                 | Monsters, Inc.      \n",
      " budget               | 115000000           \n",
      " box_office_us_canada | 255873250           \n",
      " box_office_other     | 272900000           \n",
      " box_office_worldwide | 528773250           \n",
      "-RECORD 4-----------------------------------\n",
      " film                 | Finding Nemo        \n",
      " budget               | 94000000            \n",
      " box_office_us_canada | 339714978           \n",
      " box_office_other     | 531300000           \n",
      " box_office_worldwide | 871014978           \n",
      "-RECORD 5-----------------------------------\n",
      " film                 | The Incredibles     \n",
      " budget               | 92000000            \n",
      " box_office_us_canada | 261441092           \n",
      " box_office_other     | 370001000           \n",
      " box_office_worldwide | 631442092           \n",
      "-RECORD 6-----------------------------------\n",
      " film                 | Cars                \n",
      " budget               | 120000000           \n",
      " box_office_us_canada | 244082982           \n",
      " box_office_other     | 217900167           \n",
      " box_office_worldwide | 461983149           \n",
      "-RECORD 7-----------------------------------\n",
      " film                 | Ratatouille         \n",
      " budget               | 150000000           \n",
      " box_office_us_canada | 206445654           \n",
      " box_office_other     | 417280431           \n",
      " box_office_worldwide | 623726085           \n",
      "-RECORD 8-----------------------------------\n",
      " film                 | WALL-E              \n",
      " budget               | 180000000           \n",
      " box_office_us_canada | 223808164           \n",
      " box_office_other     | 297503696           \n",
      " box_office_worldwide | 521311860           \n",
      "-RECORD 9-----------------------------------\n",
      " film                 | Up                  \n",
      " budget               | 175000000           \n",
      " box_office_us_canada | 293004164           \n",
      " box_office_other     | 442094918           \n",
      " box_office_worldwide | 735099082           \n",
      "-RECORD 10----------------------------------\n",
      " film                 | Toy Story 3         \n",
      " budget               | 200000000           \n",
      " box_office_us_canada | 415004880           \n",
      " box_office_other     | 651964823           \n",
      " box_office_worldwide | 1066969703          \n",
      "-RECORD 11----------------------------------\n",
      " film                 | Cars 2              \n",
      " budget               | 200000000           \n",
      " box_office_us_canada | 191452396           \n",
      " box_office_other     | 368400000           \n",
      " box_office_worldwide | 559852396           \n",
      "-RECORD 12----------------------------------\n",
      " film                 | Brave               \n",
      " budget               | 185000000           \n",
      " box_office_us_canada | 237283207           \n",
      " box_office_other     | 301700000           \n",
      " box_office_worldwide | 538983207           \n",
      "-RECORD 13----------------------------------\n",
      " film                 | Monsters University \n",
      " budget               | 200000000           \n",
      " box_office_us_canada | 268492764           \n",
      " box_office_other     | 475066843           \n",
      " box_office_worldwide | 743559607           \n",
      "-RECORD 14----------------------------------\n",
      " film                 | Inside Out          \n",
      " budget               | 175000000           \n",
      " box_office_us_canada | 356461711           \n",
      " box_office_other     | 501149463           \n",
      " box_office_worldwide | 857611174           \n",
      "-RECORD 15----------------------------------\n",
      " film                 | The Good Dinosaur   \n",
      " budget               | 175000000           \n",
      " box_office_us_canada | 123087120           \n",
      " box_office_other     | 209120551           \n",
      " box_office_worldwide | 332207671           \n",
      "-RECORD 16----------------------------------\n",
      " film                 | Finding Dory        \n",
      " budget               | 200000000           \n",
      " box_office_us_canada | 486295561           \n",
      " box_office_other     | 542275328           \n",
      " box_office_worldwide | 1028570889          \n",
      "-RECORD 17----------------------------------\n",
      " film                 | Cars 3              \n",
      " budget               | 175000000           \n",
      " box_office_us_canada | 152901115           \n",
      " box_office_other     | 231029541           \n",
      " box_office_worldwide | 383930656           \n",
      "-RECORD 18----------------------------------\n",
      " film                 | Coco                \n",
      " budget               | 175000000           \n",
      " box_office_us_canada | 210460015           \n",
      " box_office_other     | 604181157           \n",
      " box_office_worldwide | 814641172           \n",
      "-RECORD 19----------------------------------\n",
      " film                 | Incredibles 2       \n",
      " budget               | 200000000           \n",
      " box_office_us_canada | 608581744           \n",
      " box_office_other     | 634223615           \n",
      " box_office_worldwide | 1242805359          \n",
      "only showing top 20 rows\n",
      "\n"
     ]
    }
   ],
   "source": [
    "df.show(vertical=True)"
   ]
  },
  {
   "cell_type": "code",
   "execution_count": 7,
   "metadata": {},
   "outputs": [
    {
     "ename": "ModuleNotFoundError",
     "evalue": "No module named 'distutils'",
     "output_type": "error",
     "traceback": [
      "\u001b[31m---------------------------------------------------------------------------\u001b[39m",
      "\u001b[31mModuleNotFoundError\u001b[39m                       Traceback (most recent call last)",
      "\u001b[36mCell\u001b[39m\u001b[36m \u001b[39m\u001b[32mIn[7]\u001b[39m\u001b[32m, line 1\u001b[39m\n\u001b[32m----> \u001b[39m\u001b[32m1\u001b[39m \u001b[43mdf\u001b[49m\u001b[43m.\u001b[49m\u001b[43mtoPandas\u001b[49m\u001b[43m(\u001b[49m\u001b[43m)\u001b[49m\n",
      "\u001b[36mFile \u001b[39m\u001b[32m~/Documents/PySpark/venv_Py/lib/python3.12/site-packages/pyspark/sql/pandas/conversion.py:86\u001b[39m, in \u001b[36mPandasConversionMixin.toPandas\u001b[39m\u001b[34m(self)\u001b[39m\n\u001b[32m     83\u001b[39m \u001b[38;5;28;01mfrom\u001b[39;00m\u001b[38;5;250m \u001b[39m\u001b[34;01mpyspark\u001b[39;00m\u001b[34;01m.\u001b[39;00m\u001b[34;01msql\u001b[39;00m\u001b[34;01m.\u001b[39;00m\u001b[34;01mpandas\u001b[39;00m\u001b[34;01m.\u001b[39;00m\u001b[34;01mtypes\u001b[39;00m\u001b[38;5;250m \u001b[39m\u001b[38;5;28;01mimport\u001b[39;00m _create_converter_to_pandas\n\u001b[32m     84\u001b[39m \u001b[38;5;28;01mfrom\u001b[39;00m\u001b[38;5;250m \u001b[39m\u001b[34;01mpyspark\u001b[39;00m\u001b[34;01m.\u001b[39;00m\u001b[34;01msql\u001b[39;00m\u001b[34;01m.\u001b[39;00m\u001b[34;01mpandas\u001b[39;00m\u001b[34;01m.\u001b[39;00m\u001b[34;01mutils\u001b[39;00m\u001b[38;5;250m \u001b[39m\u001b[38;5;28;01mimport\u001b[39;00m require_minimum_pandas_version\n\u001b[32m---> \u001b[39m\u001b[32m86\u001b[39m \u001b[43mrequire_minimum_pandas_version\u001b[49m\u001b[43m(\u001b[49m\u001b[43m)\u001b[49m\n\u001b[32m     88\u001b[39m \u001b[38;5;28;01mimport\u001b[39;00m\u001b[38;5;250m \u001b[39m\u001b[34;01mpandas\u001b[39;00m\u001b[38;5;250m \u001b[39m\u001b[38;5;28;01mas\u001b[39;00m\u001b[38;5;250m \u001b[39m\u001b[34;01mpd\u001b[39;00m\n\u001b[32m     90\u001b[39m jconf = \u001b[38;5;28mself\u001b[39m.sparkSession._jconf\n",
      "\u001b[36mFile \u001b[39m\u001b[32m~/Documents/PySpark/venv_Py/lib/python3.12/site-packages/pyspark/sql/pandas/utils.py:24\u001b[39m, in \u001b[36mrequire_minimum_pandas_version\u001b[39m\u001b[34m()\u001b[39m\n\u001b[32m     21\u001b[39m \u001b[38;5;66;03m# TODO(HyukjinKwon): Relocate and deduplicate the version specification.\u001b[39;00m\n\u001b[32m     22\u001b[39m minimum_pandas_version = \u001b[33m\"\u001b[39m\u001b[33m1.0.5\u001b[39m\u001b[33m\"\u001b[39m\n\u001b[32m---> \u001b[39m\u001b[32m24\u001b[39m \u001b[38;5;28;01mfrom\u001b[39;00m\u001b[38;5;250m \u001b[39m\u001b[34;01mdistutils\u001b[39;00m\u001b[34;01m.\u001b[39;00m\u001b[34;01mversion\u001b[39;00m\u001b[38;5;250m \u001b[39m\u001b[38;5;28;01mimport\u001b[39;00m LooseVersion\n\u001b[32m     26\u001b[39m \u001b[38;5;28;01mtry\u001b[39;00m:\n\u001b[32m     27\u001b[39m     \u001b[38;5;28;01mimport\u001b[39;00m\u001b[38;5;250m \u001b[39m\u001b[34;01mpandas\u001b[39;00m\n",
      "\u001b[31mModuleNotFoundError\u001b[39m: No module named 'distutils'"
     ]
    }
   ],
   "source": [
    "df.toPandas()"
   ]
  },
  {
   "cell_type": "code",
   "execution_count": 8,
   "metadata": {},
   "outputs": [
    {
     "name": "stdout",
     "output_type": "stream",
     "text": [
      "+-------------------+---------+--------------------+----------------+--------------------+\n",
      "|               film|   budget|box_office_us_canada|box_office_other|box_office_worldwide|\n",
      "+-------------------+---------+--------------------+----------------+--------------------+\n",
      "|          Toy Story| 30000000|           223225679|       171210907|           394436586|\n",
      "|       A Bug's Life|120000000|           162798565|       200460294|           363258859|\n",
      "|        Toy Story 2| 90000000|           245852179|       265506097|           511358276|\n",
      "|     Monsters, Inc.|115000000|           255873250|       272900000|           528773250|\n",
      "|       Finding Nemo| 94000000|           339714978|       531300000|           871014978|\n",
      "|    The Incredibles| 92000000|           261441092|       370001000|           631442092|\n",
      "|               Cars|120000000|           244082982|       217900167|           461983149|\n",
      "|        Ratatouille|150000000|           206445654|       417280431|           623726085|\n",
      "|             WALL-E|180000000|           223808164|       297503696|           521311860|\n",
      "|                 Up|175000000|           293004164|       442094918|           735099082|\n",
      "|        Toy Story 3|200000000|           415004880|       651964823|          1066969703|\n",
      "|             Cars 2|200000000|           191452396|       368400000|           559852396|\n",
      "|              Brave|185000000|           237283207|       301700000|           538983207|\n",
      "|Monsters University|200000000|           268492764|       475066843|           743559607|\n",
      "|         Inside Out|175000000|           356461711|       501149463|           857611174|\n",
      "|  The Good Dinosaur|175000000|           123087120|       209120551|           332207671|\n",
      "|       Finding Dory|200000000|           486295561|       542275328|          1028570889|\n",
      "|             Cars 3|175000000|           152901115|       231029541|           383930656|\n",
      "|               Coco|175000000|           210460015|       604181157|           814641172|\n",
      "|      Incredibles 2|200000000|           608581744|       634223615|          1242805359|\n",
      "+-------------------+---------+--------------------+----------------+--------------------+\n",
      "only showing top 20 rows\n",
      "\n"
     ]
    }
   ],
   "source": [
    "df.show()"
   ]
  },
  {
   "cell_type": "code",
   "execution_count": null,
   "metadata": {},
   "outputs": [
    {
     "name": "stdout",
     "output_type": "stream",
     "text": [
      "+-------------------+---------+--------------------+----------------+--------------------+-------------------+\n",
      "|               film|   budget|box_office_us_canada|box_office_other|box_office_worldwide|       capital_name|\n",
      "+-------------------+---------+--------------------+----------------+--------------------+-------------------+\n",
      "|          Toy Story| 30000000|           223225679|       171210907|           394436586|          TOY STORY|\n",
      "|       A Bug's Life|120000000|           162798565|       200460294|           363258859|       A BUG'S LIFE|\n",
      "|        Toy Story 2| 90000000|           245852179|       265506097|           511358276|        TOY STORY 2|\n",
      "|     Monsters, Inc.|115000000|           255873250|       272900000|           528773250|     MONSTERS, INC.|\n",
      "|       Finding Nemo| 94000000|           339714978|       531300000|           871014978|       FINDING NEMO|\n",
      "|    The Incredibles| 92000000|           261441092|       370001000|           631442092|    THE INCREDIBLES|\n",
      "|               Cars|120000000|           244082982|       217900167|           461983149|               CARS|\n",
      "|        Ratatouille|150000000|           206445654|       417280431|           623726085|        RATATOUILLE|\n",
      "|             WALL-E|180000000|           223808164|       297503696|           521311860|             WALL-E|\n",
      "|                 Up|175000000|           293004164|       442094918|           735099082|                 UP|\n",
      "|        Toy Story 3|200000000|           415004880|       651964823|          1066969703|        TOY STORY 3|\n",
      "|             Cars 2|200000000|           191452396|       368400000|           559852396|             CARS 2|\n",
      "|              Brave|185000000|           237283207|       301700000|           538983207|              BRAVE|\n",
      "|Monsters University|200000000|           268492764|       475066843|           743559607|MONSTERS UNIVERSITY|\n",
      "|         Inside Out|175000000|           356461711|       501149463|           857611174|         INSIDE OUT|\n",
      "|  The Good Dinosaur|175000000|           123087120|       209120551|           332207671|  THE GOOD DINOSAUR|\n",
      "|       Finding Dory|200000000|           486295561|       542275328|          1028570889|       FINDING DORY|\n",
      "|             Cars 3|175000000|           152901115|       231029541|           383930656|             CARS 3|\n",
      "|               Coco|175000000|           210460015|       604181157|           814641172|               COCO|\n",
      "|      Incredibles 2|200000000|           608581744|       634223615|          1242805359|      INCREDIBLES 2|\n",
      "+-------------------+---------+--------------------+----------------+--------------------+-------------------+\n",
      "only showing top 20 rows\n",
      "\n"
     ]
    }
   ],
   "source": [
    "from pyspark.sql.functions import upper,col\n",
    "df.withColumn(\"capital_name\",upper(col(\"film\"))).show()"
   ]
  },
  {
   "cell_type": "code",
   "execution_count": 15,
   "metadata": {},
   "outputs": [
    {
     "name": "stdout",
     "output_type": "stream",
     "text": [
      "+-------------------+---------+--------------------+----------------+--------------------+\n",
      "|               film|   budget|box_office_us_canada|box_office_other|box_office_worldwide|\n",
      "+-------------------+---------+--------------------+----------------+--------------------+\n",
      "|          Toy Story| 30000000|           223225679|       171210907|           394436586|\n",
      "|       A Bug's Life|120000000|           162798565|       200460294|           363258859|\n",
      "|        Toy Story 2| 90000000|           245852179|       265506097|           511358276|\n",
      "|     Monsters, Inc.|115000000|           255873250|       272900000|           528773250|\n",
      "|       Finding Nemo| 94000000|           339714978|       531300000|           871014978|\n",
      "|    The Incredibles| 92000000|           261441092|       370001000|           631442092|\n",
      "|               Cars|120000000|           244082982|       217900167|           461983149|\n",
      "|        Ratatouille|150000000|           206445654|       417280431|           623726085|\n",
      "|             WALL-E|180000000|           223808164|       297503696|           521311860|\n",
      "|                 Up|175000000|           293004164|       442094918|           735099082|\n",
      "|        Toy Story 3|200000000|           415004880|       651964823|          1066969703|\n",
      "|             Cars 2|200000000|           191452396|       368400000|           559852396|\n",
      "|              Brave|185000000|           237283207|       301700000|           538983207|\n",
      "|Monsters University|200000000|           268492764|       475066843|           743559607|\n",
      "|         Inside Out|175000000|           356461711|       501149463|           857611174|\n",
      "|  The Good Dinosaur|175000000|           123087120|       209120551|           332207671|\n",
      "|       Finding Dory|200000000|           486295561|       542275328|          1028570889|\n",
      "|             Cars 3|175000000|           152901115|       231029541|           383930656|\n",
      "|               Coco|175000000|           210460015|       604181157|           814641172|\n",
      "|      Incredibles 2|200000000|           608581744|       634223615|          1242805359|\n",
      "+-------------------+---------+--------------------+----------------+--------------------+\n",
      "only showing top 20 rows\n",
      "\n"
     ]
    }
   ],
   "source": [
    "df.show()"
   ]
  },
  {
   "cell_type": "code",
   "execution_count": 16,
   "metadata": {},
   "outputs": [
    {
     "name": "stderr",
     "output_type": "stream",
     "text": [
      "                                                                                \r"
     ]
    },
    {
     "name": "stdout",
     "output_type": "stream",
     "text": [
      "+-------------------+---------+--------------------+----------------+--------------------+-------------------+\n",
      "|               film|   budget|box_office_us_canada|box_office_other|box_office_worldwide|         film_upper|\n",
      "+-------------------+---------+--------------------+----------------+--------------------+-------------------+\n",
      "|          Toy Story| 30000000|           223225679|       171210907|           394436586|          TOY STORY|\n",
      "|       A Bug's Life|120000000|           162798565|       200460294|           363258859|       A BUG'S LIFE|\n",
      "|        Toy Story 2| 90000000|           245852179|       265506097|           511358276|        TOY STORY 2|\n",
      "|     Monsters, Inc.|115000000|           255873250|       272900000|           528773250|     MONSTERS, INC.|\n",
      "|       Finding Nemo| 94000000|           339714978|       531300000|           871014978|       FINDING NEMO|\n",
      "|    The Incredibles| 92000000|           261441092|       370001000|           631442092|    THE INCREDIBLES|\n",
      "|               Cars|120000000|           244082982|       217900167|           461983149|               CARS|\n",
      "|        Ratatouille|150000000|           206445654|       417280431|           623726085|        RATATOUILLE|\n",
      "|             WALL-E|180000000|           223808164|       297503696|           521311860|             WALL-E|\n",
      "|                 Up|175000000|           293004164|       442094918|           735099082|                 UP|\n",
      "|        Toy Story 3|200000000|           415004880|       651964823|          1066969703|        TOY STORY 3|\n",
      "|             Cars 2|200000000|           191452396|       368400000|           559852396|             CARS 2|\n",
      "|              Brave|185000000|           237283207|       301700000|           538983207|              BRAVE|\n",
      "|Monsters University|200000000|           268492764|       475066843|           743559607|MONSTERS UNIVERSITY|\n",
      "|         Inside Out|175000000|           356461711|       501149463|           857611174|         INSIDE OUT|\n",
      "|  The Good Dinosaur|175000000|           123087120|       209120551|           332207671|  THE GOOD DINOSAUR|\n",
      "|       Finding Dory|200000000|           486295561|       542275328|          1028570889|       FINDING DORY|\n",
      "|             Cars 3|175000000|           152901115|       231029541|           383930656|             CARS 3|\n",
      "|               Coco|175000000|           210460015|       604181157|           814641172|               COCO|\n",
      "|      Incredibles 2|200000000|           608581744|       634223615|          1242805359|      INCREDIBLES 2|\n",
      "+-------------------+---------+--------------------+----------------+--------------------+-------------------+\n",
      "only showing top 20 rows\n",
      "\n"
     ]
    }
   ],
   "source": [
    "from pyspark.sql.functions import udf\n",
    "from pyspark.sql.types import StringType\n",
    "def to_upper(title):\n",
    "    return title.upper() if title else None\n",
    "\n",
    "to_upper_udf=udf(to_upper,StringType())\n",
    "df.withColumn(\"film_upper\",to_upper_udf(df.film)).show()"
   ]
  },
  {
   "cell_type": "code",
   "execution_count": null,
   "metadata": {},
   "outputs": [],
   "source": []
  },
  {
   "cell_type": "code",
   "execution_count": null,
   "metadata": {},
   "outputs": [],
   "source": []
  },
  {
   "cell_type": "code",
   "execution_count": null,
   "metadata": {},
   "outputs": [],
   "source": []
  },
  {
   "cell_type": "code",
   "execution_count": null,
   "metadata": {},
   "outputs": [],
   "source": []
  },
  {
   "cell_type": "code",
   "execution_count": null,
   "metadata": {},
   "outputs": [],
   "source": []
  },
  {
   "cell_type": "code",
   "execution_count": null,
   "metadata": {},
   "outputs": [],
   "source": []
  }
 ],
 "metadata": {
  "kernelspec": {
   "display_name": "venv_Py",
   "language": "python",
   "name": "python3"
  },
  "language_info": {
   "codemirror_mode": {
    "name": "ipython",
    "version": 3
   },
   "file_extension": ".py",
   "mimetype": "text/x-python",
   "name": "python",
   "nbconvert_exporter": "python",
   "pygments_lexer": "ipython3",
   "version": "3.12.9"
  }
 },
 "nbformat": 4,
 "nbformat_minor": 2
}
